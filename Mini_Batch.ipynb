{
 "cells": [
  {
   "cell_type": "code",
   "execution_count": 1,
   "id": "1ab93800",
   "metadata": {},
   "outputs": [],
   "source": [
    "import pandas as pd\n",
    "import numpy as np\n",
    "from matplotlib import pyplot as plt\n",
    "from matplotlib import colors\n",
    "from sklearn import linear_model\n",
    "from sklearn.metrics import mean_absolute_error, mean_squared_error\n",
    "import math"
   ]
  },
  {
   "cell_type": "code",
   "execution_count": 2,
   "id": "a8617111",
   "metadata": {},
   "outputs": [],
   "source": [
    "np.random.seed(1)\n",
    "X = 1.5 * np.random.randn(100) + 10.5   # Array of 1000 values with mean = 1.5, stddev = 2.5\n",
    "res = 0.5 * np.random.randn(100)       # Generate 1000 residual terms\n",
    "y = 20 + 0.3 * X  + res "
   ]
  },
  {
   "cell_type": "code",
   "execution_count": 3,
   "id": "1eed132b",
   "metadata": {},
   "outputs": [],
   "source": [
    "df = pd.DataFrame({'StudyTime': X,'Score': y})"
   ]
  },
  {
   "cell_type": "code",
   "execution_count": 4,
   "id": "f779c60a",
   "metadata": {},
   "outputs": [
    {
     "data": {
      "text/html": [
       "<div>\n",
       "<style scoped>\n",
       "    .dataframe tbody tr th:only-of-type {\n",
       "        vertical-align: middle;\n",
       "    }\n",
       "\n",
       "    .dataframe tbody tr th {\n",
       "        vertical-align: top;\n",
       "    }\n",
       "\n",
       "    .dataframe thead th {\n",
       "        text-align: right;\n",
       "    }\n",
       "</style>\n",
       "<table border=\"1\" class=\"dataframe\">\n",
       "  <thead>\n",
       "    <tr style=\"text-align: right;\">\n",
       "      <th></th>\n",
       "      <th>StudyTime</th>\n",
       "      <th>Score</th>\n",
       "    </tr>\n",
       "  </thead>\n",
       "  <tbody>\n",
       "    <tr>\n",
       "      <th>0</th>\n",
       "      <td>12.936518</td>\n",
       "      <td>23.657391</td>\n",
       "    </tr>\n",
       "    <tr>\n",
       "      <th>1</th>\n",
       "      <td>9.582365</td>\n",
       "      <td>23.486963</td>\n",
       "    </tr>\n",
       "    <tr>\n",
       "      <th>2</th>\n",
       "      <td>9.707742</td>\n",
       "      <td>23.114069</td>\n",
       "    </tr>\n",
       "    <tr>\n",
       "      <th>3</th>\n",
       "      <td>8.890547</td>\n",
       "      <td>22.963953</td>\n",
       "    </tr>\n",
       "    <tr>\n",
       "      <th>4</th>\n",
       "      <td>11.798111</td>\n",
       "      <td>22.991978</td>\n",
       "    </tr>\n",
       "    <tr>\n",
       "      <th>...</th>\n",
       "      <td>...</td>\n",
       "      <td>...</td>\n",
       "    </tr>\n",
       "    <tr>\n",
       "      <th>95</th>\n",
       "      <td>10.616010</td>\n",
       "      <td>22.371084</td>\n",
       "    </tr>\n",
       "    <tr>\n",
       "      <th>96</th>\n",
       "      <td>9.984219</td>\n",
       "      <td>23.296425</td>\n",
       "    </tr>\n",
       "    <tr>\n",
       "      <th>97</th>\n",
       "      <td>10.565395</td>\n",
       "      <td>23.379760</td>\n",
       "    </tr>\n",
       "    <tr>\n",
       "      <th>98</th>\n",
       "      <td>9.569999</td>\n",
       "      <td>23.276475</td>\n",
       "    </tr>\n",
       "    <tr>\n",
       "      <th>99</th>\n",
       "      <td>11.547048</td>\n",
       "      <td>23.986335</td>\n",
       "    </tr>\n",
       "  </tbody>\n",
       "</table>\n",
       "<p>100 rows × 2 columns</p>\n",
       "</div>"
      ],
      "text/plain": [
       "    StudyTime      Score\n",
       "0   12.936518  23.657391\n",
       "1    9.582365  23.486963\n",
       "2    9.707742  23.114069\n",
       "3    8.890547  22.963953\n",
       "4   11.798111  22.991978\n",
       "..        ...        ...\n",
       "95  10.616010  22.371084\n",
       "96   9.984219  23.296425\n",
       "97  10.565395  23.379760\n",
       "98   9.569999  23.276475\n",
       "99  11.547048  23.986335\n",
       "\n",
       "[100 rows x 2 columns]"
      ]
     },
     "execution_count": 4,
     "metadata": {},
     "output_type": "execute_result"
    }
   ],
   "source": [
    "df"
   ]
  },
  {
   "cell_type": "code",
   "execution_count": 5,
   "id": "bf3d1165",
   "metadata": {},
   "outputs": [
    {
     "data": {
      "text/plain": [
       "13.778363109799741"
      ]
     },
     "execution_count": 5,
     "metadata": {},
     "output_type": "execute_result"
    }
   ],
   "source": [
    "max(X)\n"
   ]
  },
  {
   "cell_type": "code",
   "execution_count": 6,
   "id": "047e6237",
   "metadata": {},
   "outputs": [
    {
     "data": {
      "text/plain": [
       "7.047691954679576"
      ]
     },
     "execution_count": 6,
     "metadata": {},
     "output_type": "execute_result"
    }
   ],
   "source": [
    "min(X)"
   ]
  },
  {
   "cell_type": "code",
   "execution_count": 7,
   "id": "24614eb6",
   "metadata": {},
   "outputs": [
    {
     "data": {
      "text/plain": [
       "25.228858797424788"
      ]
     },
     "execution_count": 7,
     "metadata": {},
     "output_type": "execute_result"
    }
   ],
   "source": [
    "max(y)"
   ]
  },
  {
   "cell_type": "code",
   "execution_count": 8,
   "id": "27ef7fec",
   "metadata": {},
   "outputs": [
    {
     "data": {
      "text/plain": [
       "21.57339618758479"
      ]
     },
     "execution_count": 8,
     "metadata": {},
     "output_type": "execute_result"
    }
   ],
   "source": [
    "min(y)"
   ]
  },
  {
   "cell_type": "code",
   "execution_count": 9,
   "id": "1dc3abe6",
   "metadata": {
    "scrolled": true
   },
   "outputs": [
    {
     "data": {
      "image/png": "[encoded data removed]",
      "text/plain": [
       "<Figure size 640x480 with 1 Axes>"
      ]
     },
     "metadata": {},
     "output_type": "display_data"
    }
   ],
   "source": [
    "plt.plot(X, y, 'ro')   # scatter plot showing actual data\n",
    "plt.title('Actual')\n",
    "plt.xlabel('X')\n",
    "plt.ylabel('y')\n",
    "plt.show()"
   ]
  },
  {
   "cell_type": "code",
   "execution_count": 10,
   "id": "36242649",
   "metadata": {},
   "outputs": [],
   "source": [
    "def loss_function(m1, m2, m3, m4,b, points):\n",
    "    total_error =0\n",
    "    for i in range(len(points)):\n",
    "        x=points.iloc[i].StudyTime\n",
    "        yy=points.iloc[i].Score\n",
    "        total_error += (yy-(m1*(x) + m2*(x**2) + m3*(x**3) + m4*(x**4) +b))**2\n",
    "    return total_error/ float(len(points))    \n",
    "    \n",
    "    "
   ]
  },
  {
   "cell_type": "code",
   "execution_count": 11,
   "id": "506ff154",
   "metadata": {},
   "outputs": [],
   "source": [
    "def gradient_descent(m1_now, m2_now,m3_now,m4_now,b_now,points,L):\n",
    "    m1_gradient =0\n",
    "    m2_gradient =0\n",
    "    m3_gradient =0\n",
    "    m4_gradient =0\n",
    "    b_gradient =0\n",
    "    n=len(points)\n",
    "    \n",
    "    for i in range(n):\n",
    "        x=points.iloc[i].StudyTime\n",
    "        yy= points.iloc[i].Score\n",
    "        \n",
    "        m1_gradient += -(2/n)*(x)*(yy-(m1_now*(x)+m2_now*(x**2) + m3_now*(x**3) + m4_now*(x**4) +b_now))\n",
    "        m2_gradient += -(2/n)*(x**2)*(yy-(m1_now*(x)+m2_now*(x**2) + m3_now*(x**3) + m4_now*(x**4) +b_now))\n",
    "        m3_gradient += -(2/n)*(x**3)*(yy-(m1_now*(x)+m2_now*(x**2) + m3_now*(x**3) + m4_now*(x**4) +b_now))\n",
    "        m4_gradient += -(2/n)*(x**4)*(yy-(m1_now*(x)+m2_now*(x**2) + m3_now*(x**3) + m4_now*(x**4) +b_now))\n",
    "        b_gradient += -(2/n)*(yy-(m1_now*(x)+m2_now*(x**2) + m3_now*(x**3) + m4_now*(x**4) +b_now))\n",
    "        \n",
    "    m1 = m1_now - m1_gradient *L\n",
    "    m2 = m2_now - m2_gradient *L\n",
    "    m3 = m3_now - m3_gradient *L\n",
    "    m4 = m4_now - m4_gradient *L\n",
    "    b = b_now - b_gradient *L\n",
    "    return m1,m2,m3,m4,b\n",
    "    "
   ]
  },
  {
   "cell_type": "code",
   "execution_count": 14,
   "id": "ec743885",
   "metadata": {},
   "outputs": [
    {
     "name": "stdout",
     "output_type": "stream",
     "text": [
      "Batch size = 10\n",
      "0\n",
      "0\n",
      "0\n",
      "0\n",
      "22\n"
     ]
    }
   ],
   "source": [
    "#m1 =((df['StudyTime'] - np.mean(X)) * (df['Score'] - np.mean(y))).sum()/((df['StudyTime'] - np.mean(X))**2).sum()\n",
    "#m2 = ((df['StudyTime'] - np.mean(X)) * (df['Score'] - np.mean(y))).sum()/((df['StudyTime'] - np.mean(X))**2).sum()\n",
    "m1 = 0\n",
    "m2 = 0\n",
    "m3 = 0\n",
    "m4 = 0\n",
    "#m1 = 0\n",
    "#m2 = 0\n",
    "b = 22\n",
    "#b =np.mean(y) - (m * np.mean(X))\n",
    "L= 1e-9  #try 0.008 and 0.009\n",
    "epochs =5000\n",
    "batch_size = 10\n",
    "tp_batch = int(len(df)/float(batch_size))\n",
    "print(f'Batch size = {tp_batch}')\n",
    "print(m1)\n",
    "print(m2)\n",
    "print(m3)\n",
    "print(m4)\n",
    "print(b)"
   ]
  },
  {
   "cell_type": "code",
   "execution_count": 15,
   "id": "8cf7f3da",
   "metadata": {},
   "outputs": [
    {
     "name": "stdout",
     "output_type": "stream",
     "text": [
      "Epoch: 0\n",
      "0 0 0 0 22\n",
      "Epoch: 50\n",
      "6.734672368562443e-07 5.289394314901051e-06 3.4001802242919335e-05 9.401473134379471e-05 22.000000078334562\n",
      "Epoch: 100\n",
      "1.2723957528368844e-06 9.779078897492895e-06 5.9291839413400414e-05 9.17478718387223e-05 22.000000149609363\n",
      "Epoch: 150\n",
      "1.8579030710170868e-06 1.4169834472432673e-05 8.402979799764917e-05 8.953050508410967e-05 22.00000021924575\n",
      "Epoch: 200\n",
      "2.4302822646914998e-06 1.8463821308246974e-05 0.0001082277334666067 8.736155033086247e-05 22.000000287279473\n",
      "Epoch: 250\n",
      "2.9898200074557194e-06 2.266315250072883e-05 0.00013189743804175593 8.523995042967787e-05 22.000000353745534\n",
      "Epoch: 300\n",
      "3.5367967129534056e-06 2.676989500302575e-05 0.00015505044644357333 8.31646713157075e-05 22.000000418678173\n",
      "Epoch: 350\n",
      "4.071486671571816e-06 3.078607063323436e-05 0.00017769804151445185 8.113470150447388e-05 22.000000482110885\n",
      "Epoch: 400\n",
      "4.59415818415244e-06 3.4713657059993075e-05 0.00019985125971884387 7.914905159880033e-05 22.000000544076343\n",
      "Epoch: 450\n",
      "5.10507369278173e-06 3.855458876655128e-05 0.0002215208965232919 7.720675380648386e-05 22.000000604606686\n",
      "Epoch: 500\n",
      "5.6044899087258595e-06 4.2310757993788484e-05 0.00024271751165898494 7.530686146854163e-05 22.000000663733157\n",
      "Epoch: 550\n",
      "6.092657937571824e-06 4.598401566263947e-05 0.00026345143426939296 7.344844859770834e-05 22.00000072148654\n",
      "Epoch: 600\n",
      "6.5698234016361224e-06 4.957617227637926e-05 0.0002837327679455064 7.163060942706829e-05 22.0000007778967\n",
      "Epoch: 650\n",
      "7.036226559700064e-06 5.3088998803202354e-05 0.0003035713956511087 6.985245796848584e-05 22.00000083299304\n",
      "Epoch: 700\n",
      "7.492102424130773e-06 5.652422753953246e-05 0.0003229769845405091 6.811312758072305e-05 22.000000886804223\n",
      "Epoch: 750\n",
      "7.937680875444596e-06 5.988355295447821e-05 0.00034195899067106906 6.641177054696286e-05 22.000000939358326\n",
      "Epoch: 800\n",
      "8.37318677436877e-06 6.316863251585002e-05 0.0003605266636128213 6.47475576615708e-05 22.000000990682775\n",
      "Epoch: 850\n",
      "8.79884007145624e-06 6.638108749814007e-05 0.00037868905095743714 6.311967782587109e-05 22.000001040804424\n",
      "Epoch: 900\n",
      "9.214855914306548e-06 6.952250377285719e-05 0.00039645500272872516 6.152733765275203e-05 22.000001089749592\n",
      "Epoch: 950\n",
      "9.62144475244577e-06 7.259443258160521e-05 0.00041383317569683014 5.996976107991932e-05 22.000001137543876\n",
      "Epoch: 1000\n",
      "1.0018812439916008e-05 7.559839129227948e-05 0.0004308320375982124 5.8446188991562637e-05 22.000001184212508\n",
      "Epoch: 1050\n",
      "1.040716033562475e-05 7.85358641387506e-05 0.00044745987126349303 5.69558788483247e-05 22.00000122977998\n",
      "Epoch: 1100\n",
      "1.0786685401502757e-05 8.140830294439489e-05 0.0004637247786551422 5.549810432530968e-05 22.000001274270428\n",
      "Epoch: 1150\n",
      "1.1157580298519066e-05 8.421712782982822e-05 0.00047963468481701895 5.407215495803609e-05 22.00000131770727\n",
      "Epoch: 1200\n",
      "1.1520033480598727e-05 8.696372790518258e-05 0.0004951973417376505 5.267733579607842e-05 22.000001360113608\n",
      "Epoch: 1250\n",
      "1.1874229286489968e-05 8.964946194726769e-05 0.0005104203321291596 5.131296706431466e-05 22.000001401511888\n",
      "Epoch: 1300\n",
      "1.2220348029625596e-05 9.227565906194508e-05 0.0005253110731236778 4.997838383154121e-05 22.000001441924077\n",
      "Epoch: 1350\n",
      "1.2558566086021514e-05 9.484361933203733e-05 0.0005398768198890234 4.8672935686323924e-05 22.000001481371807\n",
      "Epoch: 1400\n",
      "1.288905598025635e-05 9.735461445109045e-05 0.0005541246691654403 4.7395986419959227e-05 22.00000151987607\n",
      "Epoch: 1450\n",
      "1.3211986469573316e-05 9.9809888343297e-05 0.0005680615627251063 4.614691371631637e-05 22.00000155745749\n",
      "Epoch: 1500\n",
      "1.3527522626145864e-05 0.00010221065776988154 0.0005816942907560995 4.4925108848480116e-05 22.000001594136243\n",
      "Epoch: 1550\n",
      "1.3835825917546525e-05 0.00010455811292224526 0.0005950294951724594 4.372997638201161e-05 22.00000162993202\n",
      "Epoch: 1600\n",
      "1.4137054285459044e-05 0.0001068534180021583 0.00060807367285198 4.256093388468285e-05 22.000001664864094\n",
      "Epoch: 1650\n",
      "1.443136222267132e-05 0.00010909771178928302 0.0006208331788032875 4.141741164255321e-05 22.00000169895137\n",
      "Epoch: 1700\n",
      "1.4718900848387467e-05 0.0001112921081963042 0.0006333142292637851 4.029885238225489e-05 22.000001732212212\n",
      "Epoch: 1750\n",
      "1.4999817981894938e-05 0.00011343769681193667 0.0006455229047299134 3.920471099931945e-05 22.000001764664738\n",
      "Epoch: 1800\n",
      "1.5274258214623345e-05 0.00011553554343207653 0.0006574651529212759 3.813445429247098e-05 22.000001796326465\n",
      "Epoch: 1850\n",
      "1.5542362980629516e-05 0.00011758669057935274 0.0006691467916800111 3.708756070367022e-05 22.000001827214874\n",
      "Epoch: 1900\n",
      "1.5804270625543405e-05 0.00011959215801133437 0.0006805735118068632 3.606352006390638e-05 22.00000185734675\n",
      "Epoch: 1950\n",
      "1.60601164740088e-05 0.00012155294321763982 0.0006917508798353323 3.5061833344475385e-05 22.000001886738605\n",
      "Epoch: 2000\n",
      "1.6310032895651136e-05 0.0001234700219061926 0.000702684340745233 3.40820124137215e-05 22.000001915406582\n",
      "Epoch: 2050\n",
      "1.6554149369604482e-05 0.0001253443484788559 0.0007133792206169993 3.3123579799075404e-05 22.000001943366573\n",
      "Epoch: 2100\n",
      "1.6792592547630098e-05 0.00012717685649668342 0.0007238407292280387 3.2186068454313554e-05 22.000001970633978\n",
      "Epoch: 2150\n",
      "1.7025486315856367e-05 0.0001289684591350108 0.0007340739625923824 3.1269021531872146e-05 22.000001997223897\n",
      "Epoch: 2200\n",
      "1.7252951855170516e-05 0.0001307200496286078 0.0007440839054448841 3.037199216014199e-05 22.00000202315113\n",
      "Epoch: 2250\n",
      "1.7475107700291656e-05 0.0001324325017071104 0.0007538754336711632 2.9494543225632377e-05 22.00000204843017\n",
      "Epoch: 2300\n",
      "1.7692069797553773e-05 0.00013410667002094532 0.0007634533166844917 2.8636247159887634e-05 22.000002073075184\n",
      "Epoch: 2350\n",
      "1.790395156142722e-05 0.00013574339055795337 0.0007728222197507925 2.779668573105993e-05 22.000002097099966\n",
      "Epoch: 2400\n",
      "1.8110863929805646e-05 0.00013734348105091539 0.0007819867062628377 2.6975449840021578e-05 22.000002120518104\n",
      "Epoch: 2450\n",
      "1.8312915418085837e-05 0.0001389077413761792 0.0007909512399648127 2.6172139320945947e-05 22.00000214334285\n",
      "Epoch: 2500\n",
      "1.8510212172066646e-05 0.0001404369539435815 0.0007997201871282872 2.5386362746234394e-05 22.000002165587148\n",
      "Epoch: 2550\n",
      "1.8702858019692722e-05 0.00014193188407785582 0.0008082978186806865 2.4617737235702877e-05 22.000002187263647\n",
      "Epoch: 2600\n",
      "1.8890954521668327e-05 0.0001433932803917123 0.0008166883122872687 2.3865888269933248e-05 22.000002208384764\n",
      "Epoch: 2650\n",
      "1.9074601020966093e-05 0.000144821875150768 0.0008248957543876469 2.313044950770293e-05 22.000002228962686\n",
      "Epoch: 2700\n",
      "1.9253894691254266e-05 0.00014621838463051232 0.0008329241421878361 2.2411062607413814e-05 22.000002249009192\n",
      "Epoch: 2750\n",
      "1.9428930584267174e-05 0.0001475835094654752 0.0008407773856088144 2.1707377052391765e-05 22.000002268535912\n",
      "Epoch: 2800\n",
      "1.959980167614051e-05 0.0001489179349907706 0.0008484593091925096 2.1019049980027366e-05 22.00000228755419\n",
      "Epoch: 2850\n",
      "1.9766598912735293e-05 0.00015022233157618333 0.0008559736539661902 2.0345746014631135e-05 22.000002306075178\n",
      "Epoch: 2900\n",
      "1.992941125397194e-05 0.0001514973549529586 0.0008633240792661277 1.968713710395553e-05 22.000002324109705\n",
      "Epoch: 2950\n",
      "2.0088325717196366e-05 0.0001527436465334572 0.0008705141645214476 1.9042902359267794e-05 22.00000234166839\n",
      "Epoch: 3000\n",
      "2.0243427419599103e-05 0.00015396183372383063 0.000877547410999026 1.841272789892813e-05 22.0000023587616\n",
      "Epoch: 3050\n",
      "2.039479961970785e-05 0.00015515253022986702 0.0008844272435102754 1.7796306695371756e-05 22.000002375399557\n",
      "Epoch: 3100\n",
      "2.0542523757974363e-05 0.0001563163363561588 0.0008911570120806608 1.7193338425453788e-05 22.00000239159215\n",
      "Epoch: 3150\n",
      "2.0686679496474866e-05 0.00015745383929873994 0.000897739993582778 1.660352932403323e-05 22.000002407349136\n",
      "Epoch: 3200\n",
      "2.0827344757743535e-05 0.00015856561343132938 0.0009041793933337442 1.602659204078153e-05 22.00000242267997\n",
      "Epoch: 3250\n",
      "2.0964595762758135e-05 0.00015965222058532787 0.0009104783466577328 1.5462245500095874e-05 22.00000243759396\n",
      "Epoch: 3300\n",
      "2.109850706809581e-05 0.00016071421032369526 0.0009166399204143537 1.4910214764078255e-05 22.000002452100322\n",
      "Epoch: 3350\n",
      "2.1229151602278087e-05 0.00016175212020885262 0.0009226671144937045 1.4370230898526132e-05 22.000002466207896\n",
      "Epoch: 3400\n",
      "2.1356600701321818e-05 0.00016276647606473227 0.0009285628632787401 1.3842030841822733e-05 22.00000247992533\n",
      "Epoch: 3450\n",
      "2.1480924143513885e-05 0.00016375779223310466 0.0009343300370757195 1.3325357276692764e-05 22.000002493261203\n"
     ]
    },
    {
     "name": "stdout",
     "output_type": "stream",
     "text": [
      "Epoch: 3500\n",
      "2.160219018342669e-05 0.0001647265718243095 0.0009399714435134229 1.2819958504775842e-05 22.00000250622384\n",
      "Epoch: 3550\n",
      "2.1720465585190676e-05 0.0001656733069625099 0.0009454898289118017 1.2325588323928057e-05 22.000002518821383\n",
      "Epoch: 3600\n",
      "2.183581565504052e-05 0.00016659847902559266 0.0009508878796207545 1.1842005908198336e-05 22.000002531061842\n",
      "Epoch: 3650\n",
      "2.194830427315034e-05 0.000167502558879831 0.0009561682233296671 1.1368975690442994e-05 22.000002542952927\n",
      "Epoch: 3700\n",
      "2.2057993924773952e-05 0.00016838600710941955 0.000961333430348348 1.0906267247473446e-05 22.00000255450233\n",
      "Epoch: 3750\n",
      "2.2164945730704988e-05 0.00016924927424099908 0.0009663860148599955 1.0453655187742029e-05 22.000002565717562\n",
      "Epoch: 3800\n",
      "2.2269219477072072e-05 0.00017009280096328024 0.0009713284361468157 1.0010919041474883e-05 22.00000257660583\n",
      "Epoch: 3850\n",
      "2.2370873644483252e-05 0.0001709170183418681 0.000976163099788866 9.57784315318177e-06 22.000002587174304\n",
      "Epoch: 3900\n",
      "2.2469965436533833e-05 0.0001717223480293975 0.00098089235883672 9.15421657653683e-06 22.000002597429997\n",
      "Epoch: 3950\n",
      "2.2566550807692182e-05 0.00017250920247107964 0.000985518514958529 8.739832971550651e-06 22.000002607379706\n",
      "Epoch: 4000\n",
      "2.2660684490576032e-05 0.00017327798510576085 0.000990043819562039 8.334490503978306e-06 22.000002617030102\n",
      "Epoch: 4050\n",
      "2.27524200226336e-05 0.00017402909056258916 0.0009944704748920967 7.937991746928333e-06 22.000002626387747\n",
      "Epoch: 4100\n",
      "2.284180977224189e-05 0.00017476290485338736 0.000998800635104202 7.550143584626236e-06 22.00000263545904\n",
      "Epoch: 4150\n",
      "2.292890496423505e-05 0.00017547980556082543 0.0010030364073146062 7.170757118275755e-06 22.000002644250184\n",
      "Epoch: 4200\n",
      "2.3013755704875547e-05 0.000176180162022486 0.0010071798526274881 6.799647573968075e-06 22.000002652767314\n",
      "Epoch: 4250\n",
      "2.3096411006279646e-05 0.0001768643355109046 0.0010112329871396987 6.436634212609925e-06 22.00000266101647\n",
      "Epoch: 4300\n",
      "2.3176918810309723e-05 0.00017753267940968462 0.0010151977829235556 6.0815402418216015e-06 22.00000266900352\n",
      "Epoch: 4350\n",
      "2.3255326011945274e-05 0.00017818553938576327 0.0010190761689881998 5.734192729763162e-06 22.00000267673405\n",
      "Epoch: 4400\n",
      "2.3331678482142845e-05 0.00017882325355791768 0.0010228700322199363 5.394422520808031e-06 22.000002684213747\n",
      "Epoch: 4450\n",
      "2.3406021090197113e-05 0.00017944615266158906 0.0010265812183020482 5.062064153105337e-06 22.000002691448096\n",
      "Epoch: 4500\n",
      "2.347839772561384e-05 0.00018005456021010944 0.0010302115326145274 4.7369557779140524e-06 22.000002698442447\n",
      "Epoch: 4550\n",
      "2.354885131950499e-05 0.00018064879265240795 0.0010337627411141706 4.418939080703874e-06 22.00000270520205\n",
      "Epoch: 4600\n",
      "2.3617423865516702e-05 0.00018122915952727194 0.0010372365711954262 4.107859203984922e-06 22.000002711732016\n",
      "Epoch: 4650\n",
      "2.3684156440300237e-05 0.00018179596361424033 0.001040634712532473 3.803564671812335e-06 22.00000271803737\n",
      "Epoch: 4700\n",
      "2.374908922353597e-05 0.00018234950108120366 0.0010439588179028947 3.505907315948327e-06 22.000002724123018\n",
      "Epoch: 4750\n",
      "2.3812261517520206e-05 0.00018289006162877742 0.001047210503993373 3.214742203635396e-06 22.000002729993735\n",
      "Epoch: 4800\n",
      "2.3873711766324085e-05 0.00018341792863152517 0.0010503913521877964 2.9299275669407207e-06 22.0000027356542\n",
      "Epoch: 4850\n",
      "2.3933477574534334e-05 0.00018393337927609933 0.0010535029093381345 2.6513247336455613e-06 22.000002741109043\n",
      "Epoch: 4900\n",
      "2.3991595725584447e-05 0.0001844366846963608 0.0010565466885185065 2.3787980596503704e-06 22.000002746362778\n",
      "Epoch: 4950\n",
      "2.404810219968598e-05 0.0001849281101055524 0.0010595241697627618 2.1122148628536447e-06 22.000002751419764\n"
     ]
    }
   ],
   "source": [
    "for i in range(epochs):\n",
    "    if i% 50 == 0:\n",
    "        print(f\"Epoch: {i}\")\n",
    "        print(m1,m2,m3,m4,b)\n",
    "    for j in range(0,batch_size):\n",
    "        m1,m2,m3,m4,b = gradient_descent(m1,m2,m3,m4,b,df[j*tp_batch:(j+1)*tp_batch],L)\n",
    "    \n",
    "#print(m,b)"
   ]
  },
  {
   "cell_type": "code",
   "execution_count": 32,
   "id": "8e9bc48c",
   "metadata": {},
   "outputs": [],
   "source": [
    "#m=1.11\n",
    "#b=8\n",
    "ypred = m1*(X)+m2*(X**2)+m3*(X**3)+m4*(X**4) + b"
   ]
  },
  {
   "cell_type": "code",
   "execution_count": 33,
   "id": "4da0cbfb",
   "metadata": {},
   "outputs": [
    {
     "data": {
      "text/plain": [
       "0.23740246808144577"
      ]
     },
     "execution_count": 33,
     "metadata": {},
     "output_type": "execute_result"
    }
   ],
   "source": [
    "z=loss_function(m1,m2,m3,m4, b, df)\n",
    "z"
   ]
  },
  {
   "cell_type": "code",
   "execution_count": 34,
   "id": "5d40d1de",
   "metadata": {},
   "outputs": [
    {
     "data": {
      "text/plain": [
       "12.936518045494863"
      ]
     },
     "execution_count": 34,
     "metadata": {},
     "output_type": "execute_result"
    }
   ],
   "source": [
    "df.iloc[0].StudyTime\n"
   ]
  },
  {
   "cell_type": "code",
   "execution_count": 35,
   "id": "ad71263e",
   "metadata": {},
   "outputs": [
    {
     "data": {
      "text/plain": [
       "24.383342477379255"
      ]
     },
     "execution_count": 35,
     "metadata": {},
     "output_type": "execute_result"
    }
   ],
   "source": [
    "z= df.iloc[0].StudyTime * m1 + df.iloc[0].StudyTime**2 * m2 + df.iloc[0].StudyTime**3 * m3 + df.iloc[0].StudyTime**4 * m4 + b\n",
    "z"
   ]
  },
  {
   "cell_type": "code",
   "execution_count": 36,
   "id": "38a330c3",
   "metadata": {},
   "outputs": [
    {
     "data": {
      "image/png": "[encoded data removed]",
      "text/plain": [
       "<Figure size 640x480 with 1 Axes>"
      ]
     },
     "metadata": {},
     "output_type": "display_data"
    }
   ],
   "source": [
    "plt.scatter(df.StudyTime,df.Score,color=\"black\")\n",
    "#plt.plot(list(range(6,14)),[m*x+b for x in range(6,14)], color=\"red\")\n",
    "plt.show()"
   ]
  },
  {
   "cell_type": "code",
   "execution_count": 37,
   "id": "16a0c24c",
   "metadata": {},
   "outputs": [
    {
     "data": {
      "image/png": "[encoded data removed]",
      "text/plain": [
       "<Figure size 640x480 with 1 Axes>"
      ]
     },
     "metadata": {},
     "output_type": "display_data"
    }
   ],
   "source": [
    "plt.plot(X, ypred,)     # regression line\n",
    "plt.show()"
   ]
  },
  {
   "cell_type": "code",
   "execution_count": 42,
   "id": "cbdda880",
   "metadata": {
    "scrolled": true
   },
   "outputs": [
    {
     "data": {
      "image/png": "[encoded data removed]",
      "text/plain": [
       "<Figure size 1200x600 with 1 Axes>"
      ]
     },
     "metadata": {},
     "output_type": "display_data"
    }
   ],
   "source": [
    "plt.figure(figsize=(12, 6))\n",
    "plt.plot(X, y, 'ro')   # scatter plot showing actual data\n",
    "plt.scatter(X, ypred, color='green')     # regression line\n",
    "plt.title('Actual vs Predicted')\n",
    "plt.xlabel('X')\n",
    "plt.ylabel('y')\n",
    "plt.show()"
   ]
  },
  {
   "cell_type": "code",
   "execution_count": 43,
   "id": "c560c483",
   "metadata": {},
   "outputs": [
    {
     "name": "stdout",
     "output_type": "stream",
     "text": [
      "(100, 1)\n",
      "(100, 1)\n",
      "0.37997736415392525\n",
      "0.4872396413280079\n"
     ]
    }
   ],
   "source": [
    "y = y.reshape(100,1)\n",
    "ypred = ypred.reshape(100,1)\n",
    "print(y.shape)\n",
    "print(ypred.shape)\n",
    "mae = mean_absolute_error(y,ypred)\n",
    "rmse = math.sqrt(mean_squared_error(y,ypred))\n",
    "print(mae)\n",
    "print(rmse)"
   ]
  },
  {
   "cell_type": "code",
   "execution_count": 44,
   "id": "c815edd7",
   "metadata": {},
   "outputs": [],
   "source": [
    "def predict(value):\n",
    "    #value = X\n",
    "    for i in range(value):\n",
    "        # straight line = m*x+y\n",
    "       print(i, ':',df.iloc[i].StudyTime,':',df.iloc[i].Score,':', m1 * (df.iloc[i].StudyTime)+m2*(df.iloc[i].StudyTime**2)+m3*(df.iloc[i].StudyTime**3)+m4*(df.iloc[i].StudyTime**4) + b,':',ypred[i])"
   ]
  },
  {
   "cell_type": "code",
   "execution_count": 45,
   "id": "ee0f6098",
   "metadata": {},
   "outputs": [
    {
     "name": "stdout",
     "output_type": "stream",
     "text": [
      "0 : 12.936518045494863 : 23.65739113125546 : 24.383342477379255 : [24.38334248]\n",
      "1 : 9.582365379524887 : 23.486963466260214 : 22.96767371271871 : [22.96767371]\n",
      "2 : 9.707742371604816 : 23.114068532376844 : 23.006133866375638 : [23.00613387]\n",
      "3 : 8.890547066765745 : 22.96395338164826 : 22.773040125733203 : [22.77304013]\n",
      "4 : 11.798111443987018 : 22.991977510325583 : 23.80674715076713 : [23.80674715]\n",
      "5 : 7.047691954679576 : 22.198998802933204 : 22.38586467069467 : [22.38586467]\n",
      "6 : 13.11721764632472 : 24.305443519445554 : 24.484917341201694 : [24.48491734]\n",
      "7 : 9.358189648657346 : 22.330606593693233 : 22.90138544210385 : [22.90138544]\n",
      "8 : 10.978558644085648 : 23.160458340223883 : 23.455360954891812 : [23.45536095]\n",
      "9 : 10.125944436783884 : 23.054090604381845 : 23.141809411946937 : [23.14180941]\n",
      "10 : 12.693161905567461 : 23.12138991154686 : 24.251005694994163 : [24.25100569]\n",
      "11 : 7.409788935753519 : 22.380516376747202 : 22.44817814057949 : [22.44817814]\n"
     ]
    }
   ],
   "source": [
    "predict(12)"
   ]
  },
  {
   "cell_type": "code",
   "execution_count": null,
   "id": "4257a385",
   "metadata": {},
   "outputs": [],
   "source": []
  },
  {
   "cell_type": "code",
   "execution_count": null,
   "id": "6933bf7e",
   "metadata": {},
   "outputs": [],
   "source": []
  }
 ],
 "metadata": {
  "kernelspec": {
   "display_name": "Python 3 (ipykernel)",
   "language": "python",
   "name": "python3"
  },
  "language_info": {
   "codemirror_mode": {
    "name": "ipython",
    "version": 3
   },
   "file_extension": ".py",
   "mimetype": "text/x-python",
   "name": "python",
   "nbconvert_exporter": "python",
   "pygments_lexer": "ipython3",
   "version": "3.11.4"
  }
 },
 "nbformat": 4,
 "nbformat_minor": 5
}
