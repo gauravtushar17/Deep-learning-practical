{
 "cells": [
  {
   "cell_type": "code",
   "execution_count": 1,
   "id": "1ab93800",
   "metadata": {},
   "outputs": [],
   "source": [
    "import pandas as pd\n",
    "import numpy as np\n",
    "from matplotlib import pyplot as plt\n",
    "from matplotlib import colors\n",
    "from sklearn import linear_model"
   ]
  },
  {
   "cell_type": "code",
   "execution_count": 2,
   "id": "a8617111",
   "metadata": {},
   "outputs": [],
   "source": [
    "np.random.seed(1)\n",
    "X = 1.5 * np.random.randn(100) + 10.5   # Array of 1000 values with mean = 1.5, stddev = 2.5\n",
    "res = 0.5 * np.random.randn(100)       # Generate 1000 residual terms\n",
    "y = 20 + 0.3 * X  + res "
   ]
  },
  {
   "cell_type": "code",
   "execution_count": 3,
   "id": "1eed132b",
   "metadata": {},
   "outputs": [],
   "source": [
    "df = pd.DataFrame({'StudyTime': X,'Score': y})"
   ]
  },
  {
   "cell_type": "code",
   "execution_count": 4,
   "id": "f779c60a",
   "metadata": {},
   "outputs": [
    {
     "data": {
      "text/html": [
       "<div>\n",
       "<style scoped>\n",
       "    .dataframe tbody tr th:only-of-type {\n",
       "        vertical-align: middle;\n",
       "    }\n",
       "\n",
       "    .dataframe tbody tr th {\n",
       "        vertical-align: top;\n",
       "    }\n",
       "\n",
       "    .dataframe thead th {\n",
       "        text-align: right;\n",
       "    }\n",
       "</style>\n",
       "<table border=\"1\" class=\"dataframe\">\n",
       "  <thead>\n",
       "    <tr style=\"text-align: right;\">\n",
       "      <th></th>\n",
       "      <th>StudyTime</th>\n",
       "      <th>Score</th>\n",
       "    </tr>\n",
       "  </thead>\n",
       "  <tbody>\n",
       "    <tr>\n",
       "      <th>0</th>\n",
       "      <td>12.936518</td>\n",
       "      <td>23.657391</td>\n",
       "    </tr>\n",
       "    <tr>\n",
       "      <th>1</th>\n",
       "      <td>9.582365</td>\n",
       "      <td>23.486963</td>\n",
       "    </tr>\n",
       "    <tr>\n",
       "      <th>2</th>\n",
       "      <td>9.707742</td>\n",
       "      <td>23.114069</td>\n",
       "    </tr>\n",
       "    <tr>\n",
       "      <th>3</th>\n",
       "      <td>8.890547</td>\n",
       "      <td>22.963953</td>\n",
       "    </tr>\n",
       "    <tr>\n",
       "      <th>4</th>\n",
       "      <td>11.798111</td>\n",
       "      <td>22.991978</td>\n",
       "    </tr>\n",
       "    <tr>\n",
       "      <th>...</th>\n",
       "      <td>...</td>\n",
       "      <td>...</td>\n",
       "    </tr>\n",
       "    <tr>\n",
       "      <th>95</th>\n",
       "      <td>10.616010</td>\n",
       "      <td>22.371084</td>\n",
       "    </tr>\n",
       "    <tr>\n",
       "      <th>96</th>\n",
       "      <td>9.984219</td>\n",
       "      <td>23.296425</td>\n",
       "    </tr>\n",
       "    <tr>\n",
       "      <th>97</th>\n",
       "      <td>10.565395</td>\n",
       "      <td>23.379760</td>\n",
       "    </tr>\n",
       "    <tr>\n",
       "      <th>98</th>\n",
       "      <td>9.569999</td>\n",
       "      <td>23.276475</td>\n",
       "    </tr>\n",
       "    <tr>\n",
       "      <th>99</th>\n",
       "      <td>11.547048</td>\n",
       "      <td>23.986335</td>\n",
       "    </tr>\n",
       "  </tbody>\n",
       "</table>\n",
       "<p>100 rows × 2 columns</p>\n",
       "</div>"
      ],
      "text/plain": [
       "    StudyTime      Score\n",
       "0   12.936518  23.657391\n",
       "1    9.582365  23.486963\n",
       "2    9.707742  23.114069\n",
       "3    8.890547  22.963953\n",
       "4   11.798111  22.991978\n",
       "..        ...        ...\n",
       "95  10.616010  22.371084\n",
       "96   9.984219  23.296425\n",
       "97  10.565395  23.379760\n",
       "98   9.569999  23.276475\n",
       "99  11.547048  23.986335\n",
       "\n",
       "[100 rows x 2 columns]"
      ]
     },
     "execution_count": 4,
     "metadata": {},
     "output_type": "execute_result"
    }
   ],
   "source": [
    "df"
   ]
  },
  {
   "cell_type": "code",
   "execution_count": 5,
   "id": "bf3d1165",
   "metadata": {},
   "outputs": [
    {
     "data": {
      "text/plain": [
       "13.778363109799741"
      ]
     },
     "execution_count": 5,
     "metadata": {},
     "output_type": "execute_result"
    }
   ],
   "source": [
    "max(X)\n"
   ]
  },
  {
   "cell_type": "code",
   "execution_count": 6,
   "id": "047e6237",
   "metadata": {},
   "outputs": [
    {
     "data": {
      "text/plain": [
       "7.047691954679576"
      ]
     },
     "execution_count": 6,
     "metadata": {},
     "output_type": "execute_result"
    }
   ],
   "source": [
    "min(X)"
   ]
  },
  {
   "cell_type": "code",
   "execution_count": 7,
   "id": "24614eb6",
   "metadata": {},
   "outputs": [
    {
     "data": {
      "text/plain": [
       "25.228858797424788"
      ]
     },
     "execution_count": 7,
     "metadata": {},
     "output_type": "execute_result"
    }
   ],
   "source": [
    "max(y)"
   ]
  },
  {
   "cell_type": "code",
   "execution_count": 8,
   "id": "27ef7fec",
   "metadata": {},
   "outputs": [
    {
     "data": {
      "text/plain": [
       "21.57339618758479"
      ]
     },
     "execution_count": 8,
     "metadata": {},
     "output_type": "execute_result"
    }
   ],
   "source": [
    "min(y)"
   ]
  },
  {
   "cell_type": "code",
   "execution_count": 9,
   "id": "1dc3abe6",
   "metadata": {
    "scrolled": true
   },
   "outputs": [
    {
     "data": {
      "image/png": "[encoded data removed]",
      "text/plain": [
       "<Figure size 640x480 with 1 Axes>"
      ]
     },
     "metadata": {},
     "output_type": "display_data"
    }
   ],
   "source": [
    "plt.plot(X, y, 'ro')   # scatter plot showing actual data\n",
    "plt.title('Actual')\n",
    "plt.xlabel('X')\n",
    "plt.ylabel('y')\n",
    "plt.show()"
   ]
  },
  {
   "cell_type": "code",
   "execution_count": 10,
   "id": "36242649",
   "metadata": {},
   "outputs": [],
   "source": [
    "def loss_function(m, b, points):\n",
    "    total_error =0\n",
    "    for i in range(len(points)):\n",
    "        x=points.iloc[i].StudyTime\n",
    "        yy=points.iloc[i].Score\n",
    "        total_error += (yy-(m*x+b))**2\n",
    "    return total_error/ float(len(points))    \n",
    "    \n",
    "    "
   ]
  },
  {
   "cell_type": "code",
   "execution_count": 11,
   "id": "506ff154",
   "metadata": {},
   "outputs": [],
   "source": [
    "def gradient_descent(m_now,b_now,points,L):\n",
    "    m_gradient =0\n",
    "    b_gradient =0\n",
    "    n=len(points)\n",
    "    \n",
    "    for i in range(n):\n",
    "        x=points.iloc[i].StudyTime\n",
    "        yy= points.iloc[i].Score\n",
    "        \n",
    "        m_gradient += -(2/n)*x*(yy-(m_now*x+b_now))\n",
    "        b_gradient += -(2/n)* (yy-(m_now*x+b_now))\n",
    "        \n",
    "    m = m_now - m_gradient *L\n",
    "    b = b_now - b_gradient *L\n",
    "    return m,b\n",
    "    "
   ]
  },
  {
   "cell_type": "code",
   "execution_count": 12,
   "id": "ec743885",
   "metadata": {},
   "outputs": [],
   "source": [
    "m =0\n",
    "b =0\n",
    "\n",
    "L=0.008 #try 0.008 and 0.009\n",
    "epochs =12000"
   ]
  },
  {
   "cell_type": "code",
   "execution_count": 13,
   "id": "8cf7f3da",
   "metadata": {},
   "outputs": [
    {
     "name": "stdout",
     "output_type": "stream",
     "text": [
      "Epoch: 0\n",
      "0 0\n",
      "Epoch: 500\n",
      "1.9386296012345516 2.4567453262303167\n",
      "Epoch: 1000\n",
      "1.7530291324924214 4.4530413935198805\n",
      "Epoch: 1500\n",
      "1.5888669841987078 6.218749493599458\n",
      "Epoch: 2000\n",
      "1.4436668609713807 7.780504358407497\n",
      "Epoch: 2500\n",
      "1.3152384991086326 9.16186419791984\n",
      "Epoch: 3000\n",
      "1.201644627670066 10.383666062742023\n",
      "Epoch: 3500\n",
      "1.1011717458140187 11.464340159514643\n",
      "Epoch: 4000\n",
      "1.0123042755832958 12.420187860406221\n",
      "Epoch: 4500\n",
      "0.9337017002483585 13.26562760031324\n",
      "Epoch: 5000\n",
      "0.8641783433524787 14.013412370990972\n",
      "Epoch: 5500\n",
      "0.8026854834369374 14.674822092893887\n",
      "Epoch: 6000\n",
      "0.7482955346567723 15.259833766548555\n",
      "Epoch: 6500\n",
      "0.7001880546603583 15.777271970099024\n",
      "Epoch: 7000\n",
      "0.6576373686694715 16.23494197319637\n",
      "Epoch: 7500\n",
      "0.6200016230758505 16.639747475182702\n",
      "Epoch: 8000\n",
      "0.5867131034338653 16.997794743584357\n",
      "Epoch: 8500\n",
      "0.5572696708014897 17.314484723786837\n",
      "Epoch: 9000\n",
      "0.5312271872515825 17.594594509314184\n",
      "Epoch: 9500\n",
      "0.5081928162964267 17.842349401647756\n",
      "Epoch: 10000\n",
      "0.48781909716619215 18.061486646566344\n",
      "Epoch: 10500\n",
      "0.4697987035550158 18.255311808435856\n",
      "Epoch: 11000\n",
      "0.453859807773347 18.42674863282282\n",
      "Epoch: 11500\n",
      "0.4397619803773211 18.57838314958213\n"
     ]
    }
   ],
   "source": [
    "for i in range(epochs):\n",
    "    if i% 500 == 0:\n",
    "        print(f\"Epoch: {i}\")\n",
    "        print(m,b)\n",
    "    m,b = gradient_descent(m,b,df,L)\n",
    "    \n",
    "#print(m,b)"
   ]
  },
  {
   "cell_type": "code",
   "execution_count": 14,
   "id": "8e9bc48c",
   "metadata": {},
   "outputs": [],
   "source": [
    "# m=.7\n",
    "# b=15.88\n",
    "ypred = m*X + b"
   ]
  },
  {
   "cell_type": "code",
   "execution_count": 15,
   "id": "4da0cbfb",
   "metadata": {},
   "outputs": [
    {
     "data": {
      "text/plain": [
       "0.2316904460660946"
      ]
     },
     "execution_count": 15,
     "metadata": {},
     "output_type": "execute_result"
    }
   ],
   "source": [
    "z=loss_function(m, b, df)\n",
    "z"
   ]
  },
  {
   "cell_type": "code",
   "execution_count": 16,
   "id": "5d40d1de",
   "metadata": {},
   "outputs": [
    {
     "data": {
      "text/plain": [
       "12.936518045494863"
      ]
     },
     "execution_count": 16,
     "metadata": {},
     "output_type": "execute_result"
    }
   ],
   "source": [
    "df.iloc[0].StudyTime\n"
   ]
  },
  {
   "cell_type": "code",
   "execution_count": 17,
   "id": "ad71263e",
   "metadata": {},
   "outputs": [
    {
     "data": {
      "text/plain": [
       "24.240180639121363"
      ]
     },
     "execution_count": 17,
     "metadata": {},
     "output_type": "execute_result"
    }
   ],
   "source": [
    "z= df.iloc[0].StudyTime *m + b\n",
    "z"
   ]
  },
  {
   "cell_type": "code",
   "execution_count": 18,
   "id": "38a330c3",
   "metadata": {},
   "outputs": [
    {
     "data": {
      "image/png": "[encoded data removed]",
      "text/plain": [
       "<Figure size 640x480 with 1 Axes>"
      ]
     },
     "metadata": {},
     "output_type": "display_data"
    }
   ],
   "source": [
    "plt.scatter(df.StudyTime,df.Score,color=\"black\")\n",
    "#plt.plot(list(range(6,14)),[m*x+b for x in range(6,14)], color=\"red\")\n",
    "plt.show()"
   ]
  },
  {
   "cell_type": "code",
   "execution_count": 19,
   "id": "16a0c24c",
   "metadata": {},
   "outputs": [
    {
     "data": {
      "image/png": "[encoded data removed]",
      "text/plain": [
       "<Figure size 640x480 with 1 Axes>"
      ]
     },
     "metadata": {},
     "output_type": "display_data"
    }
   ],
   "source": [
    "plt.plot(X, ypred)     # regression line\n",
    "plt.show()"
   ]
  },
  {
   "cell_type": "code",
   "execution_count": 20,
   "id": "cbdda880",
   "metadata": {},
   "outputs": [
    {
     "data": {
      "image/png": "[encoded data removed]",
      "text/plain": [
       "<Figure size 1200x600 with 1 Axes>"
      ]
     },
     "metadata": {},
     "output_type": "display_data"
    }
   ],
   "source": [
    "plt.figure(figsize=(12, 6))\n",
    "plt.plot(X, y, 'ro')   # scatter plot showing actual data\n",
    "plt.plot(X, ypred)     # regression line\n",
    "plt.title('Actual vs Predicted')\n",
    "plt.xlabel('X')\n",
    "plt.ylabel('y')\n",
    "plt.show()"
   ]
  },
  {
   "cell_type": "code",
   "execution_count": 21,
   "id": "c815edd7",
   "metadata": {},
   "outputs": [],
   "source": [
    "def predict(value):\n",
    "    #value = X\n",
    "    for i in range(value):\n",
    "        # straight line = m*x+y\n",
    "       print(i, ':',df.iloc[i].StudyTime,':',df.iloc[i].Score,':', m * df.iloc[i].StudyTime + b,':',ypred[i])"
   ]
  },
  {
   "cell_type": "code",
   "execution_count": 22,
   "id": "ee0f6098",
   "metadata": {},
   "outputs": [
    {
     "name": "stdout",
     "output_type": "stream",
     "text": [
      "0 : 12.936518045494863 : 23.65739113125546 : 24.240180639121363 : 24.240180639121363\n",
      "1 : 9.582365379524887 : 23.486963466260214 : 22.80697614836591 : 22.80697614836591\n",
      "2 : 9.707742371604816 : 23.114068532376844 : 22.860548804706045 : 22.860548804706045\n",
      "3 : 8.890547066765745 : 22.96395338164826 : 22.511367328083864 : 22.511367328083864\n",
      "4 : 11.798111443987018 : 22.991977510325583 : 23.753747964145052 : 23.753747964145052\n",
      "5 : 7.047691954679576 : 22.198998802933204 : 21.723929043222807 : 21.723929043222807\n",
      "6 : 13.11721764632472 : 24.305443519445554 : 24.31739223476952 : 24.31739223476952\n",
      "7 : 9.358189648657346 : 22.330606593693233 : 22.711187525666222 : 22.711187525666222\n",
      "8 : 10.978558644085648 : 23.160458340223883 : 23.40355914741444 : 23.40355914741444\n",
      "9 : 10.125944436783884 : 23.054090604381845 : 23.039243437165332 : 23.039243437165332\n",
      "10 : 12.693161905567461 : 23.12138991154686 : 24.13619637026698 : 24.13619637026698\n",
      "11 : 7.409788935753519 : 22.380516376747202 : 21.878650390473734 : 21.878650390473734\n"
     ]
    }
   ],
   "source": [
    "predict(12)"
   ]
  },
  {
   "cell_type": "code",
   "execution_count": null,
   "id": "4257a385",
   "metadata": {},
   "outputs": [],
   "source": []
  },
  {
   "cell_type": "code",
   "execution_count": null,
   "id": "6933bf7e",
   "metadata": {},
   "outputs": [],
   "source": []
  }
 ],
 "metadata": {
  "kernelspec": {
   "display_name": "Python 3 (ipykernel)",
   "language": "python",
   "name": "python3"
  },
  "language_info": {
   "codemirror_mode": {
    "name": "ipython",
    "version": 3
   },
   "file_extension": ".py",
   "mimetype": "text/x-python",
   "name": "python",
   "nbconvert_exporter": "python",
   "pygments_lexer": "ipython3",
   "version": "3.11.4"
  }
 },
 "nbformat": 4,
 "nbformat_minor": 5
}
