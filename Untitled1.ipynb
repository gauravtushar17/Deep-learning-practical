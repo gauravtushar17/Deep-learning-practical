{
 "cells": [
  {
   "cell_type": "code",
   "execution_count": 1,
   "id": "c91a64f1",
   "metadata": {},
   "outputs": [],
   "source": [
    "import numpy as np\n",
    "import pandas as pd\n",
    "from matplotlib import pyplot as plt\n",
    "from sklearn import linear_model"
   ]
  },
  {
   "cell_type": "code",
   "execution_count": 2,
   "id": "ba00dcc9",
   "metadata": {},
   "outputs": [],
   "source": [
    "np.random.seed(1)\n",
    "X = 1.5 * np.random.randn(100) + 10.5   # Array of 1000 values with mean = 1.5, stddev = 2.5\n",
    "res = 0.5 * np.random.randn(100)       # Generate 1000 residual terms\n",
    "y = 20 + 0.3 * X  + res \n"
   ]
  },
  {
   "cell_type": "code",
   "execution_count": 3,
   "id": "35dd686a",
   "metadata": {},
   "outputs": [
    {
     "data": {
      "text/html": [
       "<div>\n",
       "<style scoped>\n",
       "    .dataframe tbody tr th:only-of-type {\n",
       "        vertical-align: middle;\n",
       "    }\n",
       "\n",
       "    .dataframe tbody tr th {\n",
       "        vertical-align: top;\n",
       "    }\n",
       "\n",
       "    .dataframe thead th {\n",
       "        text-align: right;\n",
       "    }\n",
       "</style>\n",
       "<table border=\"1\" class=\"dataframe\">\n",
       "  <thead>\n",
       "    <tr style=\"text-align: right;\">\n",
       "      <th></th>\n",
       "      <th>Studytime</th>\n",
       "      <th>Score</th>\n",
       "    </tr>\n",
       "  </thead>\n",
       "  <tbody>\n",
       "    <tr>\n",
       "      <th>0</th>\n",
       "      <td>12.936518</td>\n",
       "      <td>23.657391</td>\n",
       "    </tr>\n",
       "    <tr>\n",
       "      <th>1</th>\n",
       "      <td>9.582365</td>\n",
       "      <td>23.486963</td>\n",
       "    </tr>\n",
       "    <tr>\n",
       "      <th>2</th>\n",
       "      <td>9.707742</td>\n",
       "      <td>23.114069</td>\n",
       "    </tr>\n",
       "    <tr>\n",
       "      <th>3</th>\n",
       "      <td>8.890547</td>\n",
       "      <td>22.963953</td>\n",
       "    </tr>\n",
       "    <tr>\n",
       "      <th>4</th>\n",
       "      <td>11.798111</td>\n",
       "      <td>22.991978</td>\n",
       "    </tr>\n",
       "    <tr>\n",
       "      <th>...</th>\n",
       "      <td>...</td>\n",
       "      <td>...</td>\n",
       "    </tr>\n",
       "    <tr>\n",
       "      <th>95</th>\n",
       "      <td>10.616010</td>\n",
       "      <td>22.371084</td>\n",
       "    </tr>\n",
       "    <tr>\n",
       "      <th>96</th>\n",
       "      <td>9.984219</td>\n",
       "      <td>23.296425</td>\n",
       "    </tr>\n",
       "    <tr>\n",
       "      <th>97</th>\n",
       "      <td>10.565395</td>\n",
       "      <td>23.379760</td>\n",
       "    </tr>\n",
       "    <tr>\n",
       "      <th>98</th>\n",
       "      <td>9.569999</td>\n",
       "      <td>23.276475</td>\n",
       "    </tr>\n",
       "    <tr>\n",
       "      <th>99</th>\n",
       "      <td>11.547048</td>\n",
       "      <td>23.986335</td>\n",
       "    </tr>\n",
       "  </tbody>\n",
       "</table>\n",
       "<p>100 rows × 2 columns</p>\n",
       "</div>"
      ],
      "text/plain": [
       "    Studytime      Score\n",
       "0   12.936518  23.657391\n",
       "1    9.582365  23.486963\n",
       "2    9.707742  23.114069\n",
       "3    8.890547  22.963953\n",
       "4   11.798111  22.991978\n",
       "..        ...        ...\n",
       "95  10.616010  22.371084\n",
       "96   9.984219  23.296425\n",
       "97  10.565395  23.379760\n",
       "98   9.569999  23.276475\n",
       "99  11.547048  23.986335\n",
       "\n",
       "[100 rows x 2 columns]"
      ]
     },
     "execution_count": 3,
     "metadata": {},
     "output_type": "execute_result"
    }
   ],
   "source": [
    "df=pd.DataFrame({'Studytime':X,'Score':y})\n",
    "df"
   ]
  },
  {
   "cell_type": "code",
   "execution_count": 4,
   "id": "5fa9ea31",
   "metadata": {},
   "outputs": [
    {
     "data": {
      "text/plain": [
       "13.778363109799741"
      ]
     },
     "execution_count": 4,
     "metadata": {},
     "output_type": "execute_result"
    }
   ],
   "source": [
    "max(X)"
   ]
  },
  {
   "cell_type": "code",
   "execution_count": 5,
   "id": "bf561411",
   "metadata": {},
   "outputs": [
    {
     "data": {
      "text/plain": [
       "7.047691954679576"
      ]
     },
     "execution_count": 5,
     "metadata": {},
     "output_type": "execute_result"
    }
   ],
   "source": [
    "min(X)"
   ]
  },
  {
   "cell_type": "code",
   "execution_count": 6,
   "id": "6f92322d",
   "metadata": {},
   "outputs": [
    {
     "data": {
      "text/plain": [
       "25.228858797424788"
      ]
     },
     "execution_count": 6,
     "metadata": {},
     "output_type": "execute_result"
    }
   ],
   "source": [
    "max(y)"
   ]
  },
  {
   "cell_type": "code",
   "execution_count": 7,
   "id": "f42d6417",
   "metadata": {
    "scrolled": true
   },
   "outputs": [
    {
     "data": {
      "text/plain": [
       "21.57339618758479"
      ]
     },
     "execution_count": 7,
     "metadata": {},
     "output_type": "execute_result"
    }
   ],
   "source": [
    "min(y)"
   ]
  },
  {
   "cell_type": "code",
   "execution_count": 8,
   "id": "29b3ec68",
   "metadata": {},
   "outputs": [
    {
     "data": {
      "text/plain": [
       "Text(0, 0.5, 'Score')"
      ]
     },
     "execution_count": 8,
     "metadata": {},
     "output_type": "execute_result"
    },
    {
     "data": {
      "image/png": "[encoded data removed]",
      "text/plain": [
       "<Figure size 640x480 with 1 Axes>"
      ]
     },
     "metadata": {},
     "output_type": "display_data"
    }
   ],
   "source": [
    "plt.plot(X,y ,\"ro\")\n",
    "\n",
    "\n",
    "plt.title('Actual')\n",
    "plt.xlabel('StudyTime')\n",
    "plt.ylabel('Score')\n",
    "\n"
   ]
  },
  {
   "cell_type": "code",
   "execution_count": 9,
   "id": "135a858e",
   "metadata": {},
   "outputs": [],
   "source": [
    "def loss_function(m,b,points):\n",
    "    total_error=0\n",
    "    for i in range(len(points)):\n",
    "        x=points.iloc[i].Studytime\n",
    "        yy=points.iloc[i].Score\n",
    "        total_error+=(yy-(m*x+b))**2\n",
    "    return total_error/float(len(points))"
   ]
  },
  {
   "cell_type": "code",
   "execution_count": 10,
   "id": "722b9528",
   "metadata": {},
   "outputs": [],
   "source": [
    "def gradient_decent(m_now,b_now,points,L):\n",
    "    m_gradient=0\n",
    "    b_gradient=0\n",
    "    n=len(points)\n",
    "    \n",
    "   \n",
    "        \n",
    "    for i in range(n):\n",
    "        \n",
    "        x=points.iloc[i].Studytime\n",
    "        yy=points.iloc[i].Score\n",
    "        m_gradient+=-(2/n)*x*(yy-(m_now*x+b_now))\n",
    "        b_gradient+=-(2/n)*(yy-(m_now*x+b_now))\n",
    "        \n",
    "    m=m_now-m_gradient*L\n",
    "    b=b_now-b_gradient*L\n",
    "    \n",
    "    return m,b"
   ]
  },
  {
   "cell_type": "code",
   "execution_count": 11,
   "id": "fff70454",
   "metadata": {},
   "outputs": [],
   "source": [
    "m=0\n",
    "b=0\n",
    "\n",
    "L=0.008\n",
    "epochs=12000"
   ]
  },
  {
   "cell_type": "code",
   "execution_count": 12,
   "id": "77baa419",
   "metadata": {},
   "outputs": [
    {
     "name": "stdout",
     "output_type": "stream",
     "text": [
      "epochs: 0\n",
      "0 0\n",
      "epochs: 500\n",
      "1.9386296012345516 2.4567453262303167\n",
      "epochs: 1000\n",
      "1.7530291324924214 4.4530413935198805\n",
      "epochs: 1500\n",
      "1.5888669841987078 6.218749493599458\n",
      "epochs: 2000\n",
      "1.4436668609713807 7.780504358407497\n",
      "epochs: 2500\n",
      "1.3152384991086326 9.16186419791984\n",
      "epochs: 3000\n",
      "1.201644627670066 10.383666062742023\n",
      "epochs: 3500\n",
      "1.1011717458140187 11.464340159514643\n",
      "epochs: 4000\n",
      "1.0123042755832958 12.420187860406221\n",
      "epochs: 4500\n",
      "0.9337017002483585 13.26562760031324\n",
      "epochs: 5000\n",
      "0.8641783433524787 14.013412370990972\n",
      "epochs: 5500\n",
      "0.8026854834369374 14.674822092893887\n",
      "epochs: 6000\n",
      "0.7482955346567723 15.259833766548555\n",
      "epochs: 6500\n",
      "0.7001880546603583 15.777271970099024\n",
      "epochs: 7000\n",
      "0.6576373686694715 16.23494197319637\n",
      "epochs: 7500\n",
      "0.6200016230758505 16.639747475182702\n",
      "epochs: 8000\n",
      "0.5867131034338653 16.997794743584357\n",
      "epochs: 8500\n",
      "0.5572696708014897 17.314484723786837\n",
      "epochs: 9000\n",
      "0.5312271872515825 17.594594509314184\n",
      "epochs: 9500\n",
      "0.5081928162964267 17.842349401647756\n",
      "epochs: 10000\n",
      "0.48781909716619215 18.061486646566344\n",
      "epochs: 10500\n",
      "0.4697987035550158 18.255311808435856\n",
      "epochs: 11000\n",
      "0.453859807773347 18.42674863282282\n",
      "epochs: 11500\n",
      "0.4397619803773211 18.57838314958213\n"
     ]
    }
   ],
   "source": [
    "for i in range(epochs):\n",
    "    if(i%500==0):\n",
    "        print(f\"epochs: {i}\")\n",
    "        print(m,b)\n",
    "    \n",
    "    m,b=gradient_decent(m,b,df,L)\n"
   ]
  },
  {
   "cell_type": "code",
   "execution_count": 21,
   "id": "c3219e0e",
   "metadata": {},
   "outputs": [],
   "source": [
    "ypred=m*X+b"
   ]
  },
  {
   "cell_type": "code",
   "execution_count": 22,
   "id": "768bf937",
   "metadata": {},
   "outputs": [],
   "source": [
    "z=loss_function(m,b,df)"
   ]
  },
  {
   "cell_type": "code",
   "execution_count": 23,
   "id": "b6bee34b",
   "metadata": {},
   "outputs": [
    {
     "data": {
      "text/plain": [
       "0.2316904460660946"
      ]
     },
     "execution_count": 23,
     "metadata": {},
     "output_type": "execute_result"
    }
   ],
   "source": [
    "z"
   ]
  },
  {
   "cell_type": "code",
   "execution_count": 24,
   "id": "8eab505d",
   "metadata": {},
   "outputs": [
    {
     "data": {
      "text/plain": [
       "[<matplotlib.lines.Line2D at 0x7fd9bae63f10>]"
      ]
     },
     "execution_count": 24,
     "metadata": {},
     "output_type": "execute_result"
    },
    {
     "data": {
      "image/png": "[encoded data removed]",
      "text/plain": [
       "<Figure size 640x480 with 1 Axes>"
      ]
     },
     "metadata": {},
     "output_type": "display_data"
    }
   ],
   "source": [
    "plt.plot(X,y,\"ro\")\n"
   ]
  },
  {
   "cell_type": "code",
   "execution_count": 25,
   "id": "b927111e",
   "metadata": {},
   "outputs": [
    {
     "data": {
      "text/plain": [
       "[<matplotlib.lines.Line2D at 0x7fd9bae60350>]"
      ]
     },
     "execution_count": 25,
     "metadata": {},
     "output_type": "execute_result"
    },
    {
     "data": {
      "image/png": "[encoded data removed]",
      "text/plain": [
       "<Figure size 640x480 with 1 Axes>"
      ]
     },
     "metadata": {},
     "output_type": "display_data"
    }
   ],
   "source": [
    "plt.plot(X,ypred)"
   ]
  },
  {
   "cell_type": "code",
   "execution_count": 26,
   "id": "5de0f54a",
   "metadata": {},
   "outputs": [
    {
     "data": {
      "text/plain": [
       "[<matplotlib.lines.Line2D at 0x7fd9baf18a90>]"
      ]
     },
     "execution_count": 26,
     "metadata": {},
     "output_type": "execute_result"
    },
    {
     "data": {
      "image/png": "[encoded data removed]",
      "text/plain": [
       "<Figure size 640x480 with 1 Axes>"
      ]
     },
     "metadata": {},
     "output_type": "display_data"
    }
   ],
   "source": [
    "plt.plot(X,y,\"ro\")\n",
    "plt.plot(X,ypred)"
   ]
  },
  {
   "cell_type": "code",
   "execution_count": null,
   "id": "211195c2",
   "metadata": {},
   "outputs": [],
   "source": []
  }
 ],
 "metadata": {
  "kernelspec": {
   "display_name": "Python 3 (ipykernel)",
   "language": "python",
   "name": "python3"
  },
  "language_info": {
   "codemirror_mode": {
    "name": "ipython",
    "version": 3
   },
   "file_extension": ".py",
   "mimetype": "text/x-python",
   "name": "python",
   "nbconvert_exporter": "python",
   "pygments_lexer": "ipython3",
   "version": "3.11.4"
  }
 },
 "nbformat": 4,
 "nbformat_minor": 5
}
