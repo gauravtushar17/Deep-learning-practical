{
 "cells": [
  {
   "cell_type": "code",
   "execution_count": 1,
   "id": "312216d2",
   "metadata": {},
   "outputs": [],
   "source": [
    "import pandas as pd\n",
    "import numpy as np\n",
    "from matplotlib import pyplot as plt\n",
    "from matplotlib import colors\n",
    "from sklearn import linear_model"
   ]
  },
  {
   "cell_type": "code",
   "execution_count": 25,
   "id": "d7a7326b",
   "metadata": {},
   "outputs": [],
   "source": [
    "np.random.seed(1)\n",
    "X = 1.5 * np.random.randn(100) + 10.5   # Array of 1000 values with mean = 1.5, stddev = 2.5\n",
    "res = 0.5 * np.random.randn(100)       # Generate 1000 residual terms\n",
    "y = 20 + 0.3 * X  + res \n"
   ]
  },
  {
   "cell_type": "code",
   "execution_count": 45,
   "id": "1c761d0c",
   "metadata": {},
   "outputs": [
    {
     "data": {
      "text/html": [
       "<div>\n",
       "<style scoped>\n",
       "    .dataframe tbody tr th:only-of-type {\n",
       "        vertical-align: middle;\n",
       "    }\n",
       "\n",
       "    .dataframe tbody tr th {\n",
       "        vertical-align: top;\n",
       "    }\n",
       "\n",
       "    .dataframe thead th {\n",
       "        text-align: right;\n",
       "    }\n",
       "</style>\n",
       "<table border=\"1\" class=\"dataframe\">\n",
       "  <thead>\n",
       "    <tr style=\"text-align: right;\">\n",
       "      <th></th>\n",
       "      <th>Column1</th>\n",
       "      <th>Column2</th>\n",
       "    </tr>\n",
       "  </thead>\n",
       "  <tbody>\n",
       "    <tr>\n",
       "      <th>0</th>\n",
       "      <td>12.936518</td>\n",
       "      <td>23.657391</td>\n",
       "    </tr>\n",
       "    <tr>\n",
       "      <th>1</th>\n",
       "      <td>9.582365</td>\n",
       "      <td>23.486963</td>\n",
       "    </tr>\n",
       "    <tr>\n",
       "      <th>2</th>\n",
       "      <td>9.707742</td>\n",
       "      <td>23.114069</td>\n",
       "    </tr>\n",
       "    <tr>\n",
       "      <th>3</th>\n",
       "      <td>8.890547</td>\n",
       "      <td>22.963953</td>\n",
       "    </tr>\n",
       "    <tr>\n",
       "      <th>4</th>\n",
       "      <td>11.798111</td>\n",
       "      <td>22.991978</td>\n",
       "    </tr>\n",
       "    <tr>\n",
       "      <th>...</th>\n",
       "      <td>...</td>\n",
       "      <td>...</td>\n",
       "    </tr>\n",
       "    <tr>\n",
       "      <th>95</th>\n",
       "      <td>10.616010</td>\n",
       "      <td>22.371084</td>\n",
       "    </tr>\n",
       "    <tr>\n",
       "      <th>96</th>\n",
       "      <td>9.984219</td>\n",
       "      <td>23.296425</td>\n",
       "    </tr>\n",
       "    <tr>\n",
       "      <th>97</th>\n",
       "      <td>10.565395</td>\n",
       "      <td>23.379760</td>\n",
       "    </tr>\n",
       "    <tr>\n",
       "      <th>98</th>\n",
       "      <td>9.569999</td>\n",
       "      <td>23.276475</td>\n",
       "    </tr>\n",
       "    <tr>\n",
       "      <th>99</th>\n",
       "      <td>11.547048</td>\n",
       "      <td>23.986335</td>\n",
       "    </tr>\n",
       "  </tbody>\n",
       "</table>\n",
       "<p>100 rows × 2 columns</p>\n",
       "</div>"
      ],
      "text/plain": [
       "      Column1    Column2\n",
       "0   12.936518  23.657391\n",
       "1    9.582365  23.486963\n",
       "2    9.707742  23.114069\n",
       "3    8.890547  22.963953\n",
       "4   11.798111  22.991978\n",
       "..        ...        ...\n",
       "95  10.616010  22.371084\n",
       "96   9.984219  23.296425\n",
       "97  10.565395  23.379760\n",
       "98   9.569999  23.276475\n",
       "99  11.547048  23.986335\n",
       "\n",
       "[100 rows x 2 columns]"
      ]
     },
     "execution_count": 45,
     "metadata": {},
     "output_type": "execute_result"
    }
   ],
   "source": [
    "df = pd.DataFrame({'Column1': X, 'Column2': y})\n",
    "df"
   ]
  },
  {
   "cell_type": "code",
   "execution_count": 3,
   "id": "5d09fa0e",
   "metadata": {},
   "outputs": [],
   "source": [
    "def gradient_descent(m_now,b_now,points,L):\n",
    "    m_gradient =0\n",
    "    b_gradient =0\n",
    "    n=len(points)\n",
    "    \n",
    "    for i in range(n):\n",
    "        x=points.iloc[i].StudyTime\n",
    "        yy= points.iloc[i].Score\n",
    "        \n",
    "        m_gradient += -(2/n)*x*(yy-(m_now*x+b_now))\n",
    "        b_gradient += -(2/n)* (yy-(m_now*x+b_now))\n",
    "        \n",
    "    m = m_now - m_gradient *L\n",
    "    b = b_now - b_gradient *L\n",
    "    return m,b\n",
    "    "
   ]
  },
  {
   "cell_type": "code",
   "execution_count": 4,
   "id": "188544cb",
   "metadata": {},
   "outputs": [
    {
     "name": "stdout",
     "output_type": "stream",
     "text": [
      "Epoch: 0\n",
      "0 0\n"
     ]
    },
    {
     "ename": "NameError",
     "evalue": "name 'points' is not defined",
     "output_type": "error",
     "traceback": [
      "\u001b[0;31m---------------------------------------------------------------------------\u001b[0m",
      "\u001b[0;31mNameError\u001b[0m                                 Traceback (most recent call last)",
      "Cell \u001b[0;32mIn [4], line 17\u001b[0m\n\u001b[1;32m     14\u001b[0m     \u001b[38;5;28mprint\u001b[39m(\u001b[38;5;124mf\u001b[39m\u001b[38;5;124m\"\u001b[39m\u001b[38;5;124mEpoch: \u001b[39m\u001b[38;5;132;01m{\u001b[39;00mi\u001b[38;5;132;01m}\u001b[39;00m\u001b[38;5;124m\"\u001b[39m)\n\u001b[1;32m     15\u001b[0m     \u001b[38;5;28mprint\u001b[39m(m, b)\n\u001b[0;32m---> 17\u001b[0m m, b \u001b[38;5;241m=\u001b[39m gradient_descent(m, b, points, learning_rate)\n\u001b[1;32m     19\u001b[0m \u001b[38;5;66;03m# Check convergence condition\u001b[39;00m\n\u001b[1;32m     20\u001b[0m \u001b[38;5;28;01mif\u001b[39;00m \u001b[38;5;28mabs\u001b[39m(m \u001b[38;5;241m-\u001b[39m \u001b[38;5;241m0\u001b[39m) \u001b[38;5;241m<\u001b[39m \u001b[38;5;241m0.001\u001b[39m \u001b[38;5;129;01mand\u001b[39;00m \u001b[38;5;28mabs\u001b[39m(b \u001b[38;5;241m-\u001b[39m \u001b[38;5;241m19\u001b[39m) \u001b[38;5;241m<\u001b[39m \u001b[38;5;241m0.001\u001b[39m:\n",
      "\u001b[0;31mNameError\u001b[0m: name 'points' is not defined"
     ]
    }
   ],
   "source": [
    "import pandas as pd\n",
    "\n",
    "# Assuming you have a DataFrame 'data' with columns 'StudyTime' and 'Score'\n",
    "# points = data[['StudyTime', 'Score']]\n",
    "\n",
    "learning_rates = [0.1, 0.01, 0.001, 0.0001]  # Example learning rates to try\n",
    "\n",
    "for learning_rate in learning_rates:\n",
    "    m = 0\n",
    "    b = 0\n",
    "    \n",
    "    for i in range(1000):\n",
    "        if i % 50 == 0:\n",
    "            print(f\"Epoch: {i}\")\n",
    "            print(m, b)\n",
    "        \n",
    "        m, b = gradient_descent(m, b, points, learning_rate)\n",
    "        \n",
    "        # Check convergence condition\n",
    "        if abs(m - 0) < 0.001 and abs(b - 19) < 0.001:\n",
    "            print(f\"Convergence achieved at learning rate {learning_rate}\")\n",
    "            break\n",
    "    \n",
    "    print(\"Final values:\")\n",
    "    print(m, b)\n"
   ]
  },
  {
   "cell_type": "code",
   "execution_count": null,
   "id": "fbe402e8",
   "metadata": {},
   "outputs": [],
   "source": [
    "m ,b"
   ]
  },
  {
   "cell_type": "code",
   "execution_count": null,
   "id": "90453068",
   "metadata": {},
   "outputs": [],
   "source": []
  }
 ],
 "metadata": {
  "kernelspec": {
   "display_name": "Python 3 (ipykernel)",
   "language": "python",
   "name": "python3"
  },
  "language_info": {
   "codemirror_mode": {
    "name": "ipython",
    "version": 3
   },
   "file_extension": ".py",
   "mimetype": "text/x-python",
   "name": "python",
   "nbconvert_exporter": "python",
   "pygments_lexer": "ipython3",
   "version": "3.11.2"
  }
 },
 "nbformat": 4,
 "nbformat_minor": 5
}
