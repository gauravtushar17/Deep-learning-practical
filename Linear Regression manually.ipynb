{
 "cells": [
  {
   "cell_type": "markdown",
   "id": "da1d47a4",
   "metadata": {},
   "source": [
    "# Linear Regression"
   ]
  },
  {
   "cell_type": "markdown",
   "id": "d7cd030a",
   "metadata": {},
   "source": [
    "Let $\\Phi: X \\mapsto \\mathbb{R}^N$ be a feature mapping from the input space $\\mathcal{X}$ to $\\mathbb{R}^N$ and consider the family of linear hypotheses \n",
    "$H=\\{x\\rightarrow  {\\bf w.\\Phi}(x)+ b:  {\\bf w} \\in \\mathbb{R}^N,b\\in \\mathbb{R}\\}$\n",
    "\n",
    "* Linear regression consists of seeking  hypothesis in $H$ with the smallest empirical mean square error.\n",
    "\n",
    "* For a sample $S=\\left((x_1,y_1),\\dots,(x_m,y_m)\\right) \\in (\\mathcal{X}\\times \\mathcal{Y})^m$,\n",
    "\n",
    "* The following is the corresponding **_Optimizaion Problem:_**\n",
    "\n",
    "$\\min_{{\\bf w},b} \\frac{1}{m}\\left({\\bf w.\\Phi}(x_i)+b-y_i\\right)^2$\n",
    "\n",
    "* The optimization problem admits the simpler formulation:\n",
    "\n",
    "$\\min_{w,b}F({\\bf W}) = \\frac{1}{m} \\Vert {\\bf X^TW-Y}\\Vert^2$\n",
    "\n",
    "using the notation ${\\bf X} = \\begin{bmatrix} \\Phi(x_1) &\\dots &\\Phi(x_m)\\\\1 &\\dots &1 \\end{bmatrix}$,\n",
    "\n",
    "${\\bf W} = \\begin{bmatrix}w_1\\\\ \\vdots \\\\w_n \\end{bmatrix}$ and\n",
    "\n",
    "${\\bf Y}= \\begin{bmatrix}y_1\\\\ \\vdots \\\\y_m \\end{bmatrix}$\n",
    "\n",
    "* The object function $F$ is convex, by composition of the convex function $\\bf u\\mapsto \\Vert u \\Vert^2$ with the affine function $\\bf W\\mapsto X^TW -Y$ and itis deferentiable. \n",
    "\n",
    "* $F$ admits a goal minimum at $\\bf W$ if and only if $\\nabla F({\\bf W}) = 0$, that is if and only if $\\frac{2}{m}{\\bf X(X^TW - Y) = 0 \\iff  XX^TW=XY}$\n",
    "\n",
    "when $\\bf XX^T$ is invertible, then the equation admits a unique solution. "
   ]
  },
  {
   "cell_type": "markdown",
   "id": "9616d786",
   "metadata": {},
   "source": [
    "# Another way to define linear regression"
   ]
  },
  {
   "cell_type": "markdown",
   "id": "969aeab9",
   "metadata": {},
   "source": [
    "**Formulation**\n",
    "\n",
    "Given a data set $\\{y_i,\\, x_{i1}, \\ldots, x_{ip}\\}_{i=1}^n$  of $n$ statistical units, a linear regression model assumes that the relationship between the dependent variable $y$ and $p-vector$ of regressors $\\bf x$ is linear. This relationship is modeled through a *disturbance term* or *error variable* $\\varepsilon$ - an unobserved random variable that adds *noise* to the linear relationship between the dependent variable and regressors. \n",
    "\n",
    "* Thus the model takes the form:\n",
    " $y_i = \\beta_{0} + \\beta_{1} x_{i1} + \\cdots + \\beta_{p} x_{ip} + \\varepsilon_i\n",
    " = \\mathbf{x}^\\mathsf{T}_i\\boldsymbol\\beta + \\varepsilon_i,\n",
    " \\qquad i = 1, \\ldots, n,$\n",
    "where $^T$ denotes the transpose, so that $\\bf x_i^T\\beta$ is the inner product between vectors ${\\bf x}_i$.\n",
    "\n",
    "Often these $n$ equations are stacked together and written in matrix notation as:\n",
    "$\\mathbf{y} = X\\boldsymbol\\beta + \\boldsymbol\\varepsilon,$\n",
    "\n",
    "where\n",
    "$ \\mathbf{y} = \\begin{pmatrix} y_1 \\\\ y_2 \\\\ \\vdots \\\\ y_n \\end{pmatrix}, \\quad$\n",
    "\n",
    "$ X = \\begin{pmatrix} \\mathbf{x}^\\mathsf{T}_1 \\\\ \\mathbf{x}^\\mathsf{T}_2 \\\\ \\vdots \\\\ \\mathbf{x}^\\mathsf{T}_n \\end{pmatrix}\n",
    " = \\begin{pmatrix} 1 &  x_{11} & \\cdots & x_{1p} \\\\\n",
    " 1 & x_{21} & \\cdots & x_{2p} \\\\\n",
    "  \\vdots & \\vdots & \\ddots & \\vdots \\\\\n",
    " 1 & x_{n1} & \\cdots & x_{np}\n",
    " \\end{pmatrix}, \n",
    "$\n",
    "\n",
    "$\\boldsymbol\\beta = \\begin{pmatrix} \\beta_0 \\\\ \\beta_1 \\\\ \\beta_2 \\\\ \\vdots \\\\ \\beta_p \\end{pmatrix}, \\quad\n",
    " \\boldsymbol\\varepsilon = \\begin{pmatrix} \\varepsilon_1 \\\\ \\varepsilon_2 \\\\ \\vdots \\\\ \\varepsilon_n \\end{pmatrix}.$\n",
    "\n",
    "**Notation and terminology**\n",
    "\n",
    "* $\\mathbf{y}$ is a vector of observed values $y_i\\ (i=1,\\ldots,n)$ of the variable called the regressan', endogenous variable, response variable, measured variable, criterion variable, or ''dependent dependent variable. This variable is also sometimes known as the predicted variable.\n",
    "\n",
    "* $\\bf X$ may be seen as a matrix of row-vectors $\\mathbf{x}_i$ or of $n$-dimensional column-vectors $X_j$, which are known as explanatory variables, covariates, input variables, 'predictor variables, or independent variables.\n",
    "\n",
    "* $\\boldsymbol\\beta$ is a $(p+1)$-dimensional *parameter vector*, where $\\beta_0$ is the intercept term.\n",
    "\n",
    "* $\\boldsymbol\\varepsilon$ is a vector of values $\\varepsilon_i$. This part of the model is called the *error term*, *disturbance term*, or sometimes *noise*.\n"
   ]
  },
  {
   "cell_type": "code",
   "execution_count": 2,
   "id": "42c37b20",
   "metadata": {},
   "outputs": [],
   "source": [
    "import pandas as pd\n",
    "import numpy as np\n",
    "import matplotlib.pyplot as plt\n",
    "from matplotlib import colors\n",
    "from sklearn import linear_model\n",
    "import area as area"
   ]
  },
  {
   "cell_type": "code",
   "execution_count": 3,
   "id": "7a664d57",
   "metadata": {},
   "outputs": [],
   "source": [
    "# date = x, cases = y\n",
    "# 1- Retrieve the data\n",
    "df = pd.read_csv(\"cases-challenge.csv\")"
   ]
  },
  {
   "cell_type": "code",
   "execution_count": 4,
   "id": "e5d16be5",
   "metadata": {},
   "outputs": [
    {
     "data": {
      "text/html": [
       "<div>\n",
       "<style scoped>\n",
       "    .dataframe tbody tr th:only-of-type {\n",
       "        vertical-align: middle;\n",
       "    }\n",
       "\n",
       "    .dataframe tbody tr th {\n",
       "        vertical-align: top;\n",
       "    }\n",
       "\n",
       "    .dataframe thead th {\n",
       "        text-align: right;\n",
       "    }\n",
       "</style>\n",
       "<table border=\"1\" class=\"dataframe\">\n",
       "  <thead>\n",
       "    <tr style=\"text-align: right;\">\n",
       "      <th></th>\n",
       "      <th>days</th>\n",
       "      <th>cases</th>\n",
       "    </tr>\n",
       "  </thead>\n",
       "  <tbody>\n",
       "    <tr>\n",
       "      <th>0</th>\n",
       "      <td>18</td>\n",
       "      <td>85.15</td>\n",
       "    </tr>\n",
       "    <tr>\n",
       "      <th>1</th>\n",
       "      <td>19</td>\n",
       "      <td>83.50</td>\n",
       "    </tr>\n",
       "    <tr>\n",
       "      <th>2</th>\n",
       "      <td>20</td>\n",
       "      <td>82.50</td>\n",
       "    </tr>\n",
       "    <tr>\n",
       "      <th>3</th>\n",
       "      <td>21</td>\n",
       "      <td>80.73</td>\n",
       "    </tr>\n",
       "    <tr>\n",
       "      <th>4</th>\n",
       "      <td>22</td>\n",
       "      <td>78.77</td>\n",
       "    </tr>\n",
       "    <tr>\n",
       "      <th>5</th>\n",
       "      <td>23</td>\n",
       "      <td>77.86</td>\n",
       "    </tr>\n",
       "    <tr>\n",
       "      <th>6</th>\n",
       "      <td>24</td>\n",
       "      <td>75.96</td>\n",
       "    </tr>\n",
       "    <tr>\n",
       "      <th>7</th>\n",
       "      <td>25</td>\n",
       "      <td>75.85</td>\n",
       "    </tr>\n",
       "    <tr>\n",
       "      <th>8</th>\n",
       "      <td>26</td>\n",
       "      <td>74.79</td>\n",
       "    </tr>\n",
       "    <tr>\n",
       "      <th>9</th>\n",
       "      <td>27</td>\n",
       "      <td>72.79</td>\n",
       "    </tr>\n",
       "  </tbody>\n",
       "</table>\n",
       "</div>"
      ],
      "text/plain": [
       "   days  cases\n",
       "0    18  85.15\n",
       "1    19  83.50\n",
       "2    20  82.50\n",
       "3    21  80.73\n",
       "4    22  78.77\n",
       "5    23  77.86\n",
       "6    24  75.96\n",
       "7    25  75.85\n",
       "8    26  74.79\n",
       "9    27  72.79"
      ]
     },
     "execution_count": 4,
     "metadata": {},
     "output_type": "execute_result"
    }
   ],
   "source": [
    "df"
   ]
  },
  {
   "cell_type": "code",
   "execution_count": 5,
   "id": "49ad57be",
   "metadata": {},
   "outputs": [],
   "source": [
    "x = df.days\n",
    "y = df.cases\n",
    "# 2- Iterate the data"
   ]
  },
  {
   "cell_type": "code",
   "execution_count": 6,
   "id": "cf392d23",
   "metadata": {},
   "outputs": [],
   "source": [
    "# get the mean of x and y\n",
    "xmean = x.mean()\n",
    "ymean = y.mean()"
   ]
  },
  {
   "cell_type": "code",
   "execution_count": 7,
   "id": "7ca4c50c",
   "metadata": {},
   "outputs": [
    {
     "data": {
      "text/plain": [
       "82.5"
      ]
     },
     "execution_count": 7,
     "metadata": {},
     "output_type": "execute_result"
    }
   ],
   "source": [
    "df['diffx'] = xmean - x\n",
    "df['diffx_squared'] = df.diffx ** 2\n",
    "SSxx = df.diffx_squared.sum() #sum of square\n",
    "SSxx"
   ]
  },
  {
   "cell_type": "code",
   "execution_count": 8,
   "id": "e8f9d8dd",
   "metadata": {},
   "outputs": [
    {
     "data": {
      "text/html": [
       "<div>\n",
       "<style scoped>\n",
       "    .dataframe tbody tr th:only-of-type {\n",
       "        vertical-align: middle;\n",
       "    }\n",
       "\n",
       "    .dataframe tbody tr th {\n",
       "        vertical-align: top;\n",
       "    }\n",
       "\n",
       "    .dataframe thead th {\n",
       "        text-align: right;\n",
       "    }\n",
       "</style>\n",
       "<table border=\"1\" class=\"dataframe\">\n",
       "  <thead>\n",
       "    <tr style=\"text-align: right;\">\n",
       "      <th></th>\n",
       "      <th>days</th>\n",
       "      <th>cases</th>\n",
       "      <th>diffx</th>\n",
       "      <th>diffx_squared</th>\n",
       "    </tr>\n",
       "  </thead>\n",
       "  <tbody>\n",
       "    <tr>\n",
       "      <th>0</th>\n",
       "      <td>18</td>\n",
       "      <td>85.15</td>\n",
       "      <td>4.5</td>\n",
       "      <td>20.25</td>\n",
       "    </tr>\n",
       "    <tr>\n",
       "      <th>1</th>\n",
       "      <td>19</td>\n",
       "      <td>83.50</td>\n",
       "      <td>3.5</td>\n",
       "      <td>12.25</td>\n",
       "    </tr>\n",
       "    <tr>\n",
       "      <th>2</th>\n",
       "      <td>20</td>\n",
       "      <td>82.50</td>\n",
       "      <td>2.5</td>\n",
       "      <td>6.25</td>\n",
       "    </tr>\n",
       "    <tr>\n",
       "      <th>3</th>\n",
       "      <td>21</td>\n",
       "      <td>80.73</td>\n",
       "      <td>1.5</td>\n",
       "      <td>2.25</td>\n",
       "    </tr>\n",
       "    <tr>\n",
       "      <th>4</th>\n",
       "      <td>22</td>\n",
       "      <td>78.77</td>\n",
       "      <td>0.5</td>\n",
       "      <td>0.25</td>\n",
       "    </tr>\n",
       "    <tr>\n",
       "      <th>5</th>\n",
       "      <td>23</td>\n",
       "      <td>77.86</td>\n",
       "      <td>-0.5</td>\n",
       "      <td>0.25</td>\n",
       "    </tr>\n",
       "    <tr>\n",
       "      <th>6</th>\n",
       "      <td>24</td>\n",
       "      <td>75.96</td>\n",
       "      <td>-1.5</td>\n",
       "      <td>2.25</td>\n",
       "    </tr>\n",
       "    <tr>\n",
       "      <th>7</th>\n",
       "      <td>25</td>\n",
       "      <td>75.85</td>\n",
       "      <td>-2.5</td>\n",
       "      <td>6.25</td>\n",
       "    </tr>\n",
       "    <tr>\n",
       "      <th>8</th>\n",
       "      <td>26</td>\n",
       "      <td>74.79</td>\n",
       "      <td>-3.5</td>\n",
       "      <td>12.25</td>\n",
       "    </tr>\n",
       "    <tr>\n",
       "      <th>9</th>\n",
       "      <td>27</td>\n",
       "      <td>72.79</td>\n",
       "      <td>-4.5</td>\n",
       "      <td>20.25</td>\n",
       "    </tr>\n",
       "  </tbody>\n",
       "</table>\n",
       "</div>"
      ],
      "text/plain": [
       "   days  cases  diffx  diffx_squared\n",
       "0    18  85.15    4.5          20.25\n",
       "1    19  83.50    3.5          12.25\n",
       "2    20  82.50    2.5           6.25\n",
       "3    21  80.73    1.5           2.25\n",
       "4    22  78.77    0.5           0.25\n",
       "5    23  77.86   -0.5           0.25\n",
       "6    24  75.96   -1.5           2.25\n",
       "7    25  75.85   -2.5           6.25\n",
       "8    26  74.79   -3.5          12.25\n",
       "9    27  72.79   -4.5          20.25"
      ]
     },
     "execution_count": 8,
     "metadata": {},
     "output_type": "execute_result"
    }
   ],
   "source": [
    "df"
   ]
  },
  {
   "cell_type": "code",
   "execution_count": 10,
   "id": "e6f7aca0",
   "metadata": {},
   "outputs": [
    {
     "data": {
      "text/plain": [
       "-110.34"
      ]
     },
     "execution_count": 10,
     "metadata": {},
     "output_type": "execute_result"
    }
   ],
   "source": [
    "df['diffy'] = ymean - y\n",
    "SSxy = (df.diffx * df.diffy).sum()\n",
    "SSxy"
   ]
  },
  {
   "cell_type": "code",
   "execution_count": 30,
   "id": "5e8f8aa6",
   "metadata": {},
   "outputs": [
    {
     "data": {
      "text/plain": [
       "(-0.7476889613920609, 95.61300163132137)"
      ]
     },
     "execution_count": 30,
     "metadata": {},
     "output_type": "execute_result"
    }
   ],
   "source": [
    "m = SSxx / SSxy\n",
    "b = ymean - m * xmean\n",
    "m, b"
   ]
  },
  {
   "cell_type": "code",
   "execution_count": 31,
   "id": "7710b8c0",
   "metadata": {},
   "outputs": [
    {
     "data": {
      "text/html": [
       "<div>\n",
       "<style scoped>\n",
       "    .dataframe tbody tr th:only-of-type {\n",
       "        vertical-align: middle;\n",
       "    }\n",
       "\n",
       "    .dataframe tbody tr th {\n",
       "        vertical-align: top;\n",
       "    }\n",
       "\n",
       "    .dataframe thead th {\n",
       "        text-align: right;\n",
       "    }\n",
       "</style>\n",
       "<table border=\"1\" class=\"dataframe\">\n",
       "  <thead>\n",
       "    <tr style=\"text-align: right;\">\n",
       "      <th></th>\n",
       "      <th>days</th>\n",
       "      <th>cases</th>\n",
       "      <th>diffx</th>\n",
       "      <th>diffx_squared</th>\n",
       "      <th>diffy</th>\n",
       "    </tr>\n",
       "  </thead>\n",
       "  <tbody>\n",
       "    <tr>\n",
       "      <th>0</th>\n",
       "      <td>18</td>\n",
       "      <td>85.15</td>\n",
       "      <td>4.5</td>\n",
       "      <td>20.25</td>\n",
       "      <td>-6.36</td>\n",
       "    </tr>\n",
       "    <tr>\n",
       "      <th>1</th>\n",
       "      <td>19</td>\n",
       "      <td>83.50</td>\n",
       "      <td>3.5</td>\n",
       "      <td>12.25</td>\n",
       "      <td>-4.71</td>\n",
       "    </tr>\n",
       "    <tr>\n",
       "      <th>2</th>\n",
       "      <td>20</td>\n",
       "      <td>82.50</td>\n",
       "      <td>2.5</td>\n",
       "      <td>6.25</td>\n",
       "      <td>-3.71</td>\n",
       "    </tr>\n",
       "    <tr>\n",
       "      <th>3</th>\n",
       "      <td>21</td>\n",
       "      <td>80.73</td>\n",
       "      <td>1.5</td>\n",
       "      <td>2.25</td>\n",
       "      <td>-1.94</td>\n",
       "    </tr>\n",
       "    <tr>\n",
       "      <th>4</th>\n",
       "      <td>22</td>\n",
       "      <td>78.77</td>\n",
       "      <td>0.5</td>\n",
       "      <td>0.25</td>\n",
       "      <td>0.02</td>\n",
       "    </tr>\n",
       "    <tr>\n",
       "      <th>5</th>\n",
       "      <td>23</td>\n",
       "      <td>77.86</td>\n",
       "      <td>-0.5</td>\n",
       "      <td>0.25</td>\n",
       "      <td>0.93</td>\n",
       "    </tr>\n",
       "    <tr>\n",
       "      <th>6</th>\n",
       "      <td>24</td>\n",
       "      <td>75.96</td>\n",
       "      <td>-1.5</td>\n",
       "      <td>2.25</td>\n",
       "      <td>2.83</td>\n",
       "    </tr>\n",
       "    <tr>\n",
       "      <th>7</th>\n",
       "      <td>25</td>\n",
       "      <td>75.85</td>\n",
       "      <td>-2.5</td>\n",
       "      <td>6.25</td>\n",
       "      <td>2.94</td>\n",
       "    </tr>\n",
       "    <tr>\n",
       "      <th>8</th>\n",
       "      <td>26</td>\n",
       "      <td>74.79</td>\n",
       "      <td>-3.5</td>\n",
       "      <td>12.25</td>\n",
       "      <td>4.00</td>\n",
       "    </tr>\n",
       "    <tr>\n",
       "      <th>9</th>\n",
       "      <td>27</td>\n",
       "      <td>72.79</td>\n",
       "      <td>-4.5</td>\n",
       "      <td>20.25</td>\n",
       "      <td>6.00</td>\n",
       "    </tr>\n",
       "  </tbody>\n",
       "</table>\n",
       "</div>"
      ],
      "text/plain": [
       "   days  cases  diffx  diffx_squared  diffy\n",
       "0    18  85.15    4.5          20.25  -6.36\n",
       "1    19  83.50    3.5          12.25  -4.71\n",
       "2    20  82.50    2.5           6.25  -3.71\n",
       "3    21  80.73    1.5           2.25  -1.94\n",
       "4    22  78.77    0.5           0.25   0.02\n",
       "5    23  77.86   -0.5           0.25   0.93\n",
       "6    24  75.96   -1.5           2.25   2.83\n",
       "7    25  75.85   -2.5           6.25   2.94\n",
       "8    26  74.79   -3.5          12.25   4.00\n",
       "9    27  72.79   -4.5          20.25   6.00"
      ]
     },
     "execution_count": 31,
     "metadata": {},
     "output_type": "execute_result"
    }
   ],
   "source": [
    "df"
   ]
  },
  {
   "cell_type": "code",
   "execution_count": 37,
   "id": "7ca9a779",
   "metadata": {},
   "outputs": [],
   "source": [
    "def predict(value):\n",
    "    # value = x\n",
    "    for i in range(value):\n",
    "        # straight line = m*x+y\n",
    "        plt.scatter(x, y)\n",
    "        #plt.plot(x, m*i+b, 'r')\n",
    "        print(i, ':', m * i + b)"
   ]
  },
  {
   "cell_type": "code",
   "execution_count": 38,
   "id": "f7662413",
   "metadata": {
    "scrolled": true
   },
   "outputs": [
    {
     "name": "stdout",
     "output_type": "stream",
     "text": [
      "0 : 95.61300163132137\n",
      "1 : 94.86531266992931\n",
      "2 : 94.11762370853725\n",
      "3 : 93.36993474714518\n",
      "4 : 92.62224578575312\n",
      "5 : 91.87455682436106\n",
      "6 : 91.12686786296901\n",
      "7 : 90.37917890157694\n",
      "8 : 89.63148994018488\n",
      "9 : 88.88380097879282\n",
      "10 : 88.13611201740076\n"
     ]
    },
    {
     "data": {
      "image/png": "[encoded data removed]",
      "text/plain": [
       "<Figure size 432x288 with 1 Axes>"
      ]
     },
     "metadata": {
      "needs_background": "light"
     },
     "output_type": "display_data"
    }
   ],
   "source": [
    "predict(11)\n",
    "plt.scatter(x, y)\n",
    "plt.plot(x, m*x+b, 'b')\n",
    "plt.show()"
   ]
  },
  {
   "cell_type": "code",
   "execution_count": 34,
   "id": "e4723c17",
   "metadata": {},
   "outputs": [
    {
     "data": {
      "text/plain": [
       "75.42539967373573"
      ]
     },
     "execution_count": 34,
     "metadata": {},
     "output_type": "execute_result"
    }
   ],
   "source": [
    "z=m*27+b\n",
    "z"
   ]
  },
  {
   "cell_type": "code",
   "execution_count": 29,
   "id": "0bdf4726",
   "metadata": {},
   "outputs": [
    {
     "data": {
      "text/plain": [
       "79.01430668841762"
      ]
     },
     "execution_count": 29,
     "metadata": {},
     "output_type": "execute_result"
    }
   ],
   "source": [
    "z=m*21+b\n",
    "z"
   ]
  },
  {
   "cell_type": "code",
   "execution_count": null,
   "id": "44aee60d",
   "metadata": {},
   "outputs": [],
   "source": []
  },
  {
   "cell_type": "code",
   "execution_count": null,
   "id": "a53fa367",
   "metadata": {},
   "outputs": [],
   "source": []
  }
 ],
 "metadata": {
  "kernelspec": {
   "display_name": "Python 3 (ipykernel)",
   "language": "python",
   "name": "python3"
  },
  "language_info": {
   "codemirror_mode": {
    "name": "ipython",
    "version": 3
   },
   "file_extension": ".py",
   "mimetype": "text/x-python",
   "name": "python",
   "nbconvert_exporter": "python",
   "pygments_lexer": "ipython3",
   "version": "3.11.2"
  }
 },
 "nbformat": 4,
 "nbformat_minor": 5
}
