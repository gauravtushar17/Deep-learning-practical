{
 "cells": [
  {
   "cell_type": "code",
   "execution_count": 2,
   "id": "1ab93800",
   "metadata": {},
   "outputs": [],
   "source": [
    "import pandas as pd\n",
    "import numpy as np\n",
    "from matplotlib import pyplot as plt\n",
    "from matplotlib import colors\n",
    "from sklearn import linear_model\n",
    "from sklearn.metrics import mean_absolute_error, mean_squared_error\n",
    "import math"
   ]
  },
  {
   "cell_type": "code",
   "execution_count": 3,
   "id": "a8617111",
   "metadata": {},
   "outputs": [],
   "source": [
    "np.random.seed(1)\n",
    "X = 1.5 * np.random.randn(100) + 10.5   # Array of 1000 values with mean = 1.5, stddev = 2.5\n",
    "res = 0.5 * np.random.randn(100)       # Generate 1000 residual terms\n",
    "y = 20 + 0.3 * X  + res "
   ]
  },
  {
   "cell_type": "code",
   "execution_count": 4,
   "id": "1eed132b",
   "metadata": {},
   "outputs": [],
   "source": [
    "df = pd.DataFrame({'StudyTime': X,'Score': y})"
   ]
  },
  {
   "cell_type": "code",
   "execution_count": 5,
   "id": "f779c60a",
   "metadata": {},
   "outputs": [
    {
     "data": {
      "text/html": [
       "<div>\n",
       "<style scoped>\n",
       "    .dataframe tbody tr th:only-of-type {\n",
       "        vertical-align: middle;\n",
       "    }\n",
       "\n",
       "    .dataframe tbody tr th {\n",
       "        vertical-align: top;\n",
       "    }\n",
       "\n",
       "    .dataframe thead th {\n",
       "        text-align: right;\n",
       "    }\n",
       "</style>\n",
       "<table border=\"1\" class=\"dataframe\">\n",
       "  <thead>\n",
       "    <tr style=\"text-align: right;\">\n",
       "      <th></th>\n",
       "      <th>StudyTime</th>\n",
       "      <th>Score</th>\n",
       "    </tr>\n",
       "  </thead>\n",
       "  <tbody>\n",
       "    <tr>\n",
       "      <th>0</th>\n",
       "      <td>12.936518</td>\n",
       "      <td>23.657391</td>\n",
       "    </tr>\n",
       "    <tr>\n",
       "      <th>1</th>\n",
       "      <td>9.582365</td>\n",
       "      <td>23.486963</td>\n",
       "    </tr>\n",
       "    <tr>\n",
       "      <th>2</th>\n",
       "      <td>9.707742</td>\n",
       "      <td>23.114069</td>\n",
       "    </tr>\n",
       "    <tr>\n",
       "      <th>3</th>\n",
       "      <td>8.890547</td>\n",
       "      <td>22.963953</td>\n",
       "    </tr>\n",
       "    <tr>\n",
       "      <th>4</th>\n",
       "      <td>11.798111</td>\n",
       "      <td>22.991978</td>\n",
       "    </tr>\n",
       "    <tr>\n",
       "      <th>...</th>\n",
       "      <td>...</td>\n",
       "      <td>...</td>\n",
       "    </tr>\n",
       "    <tr>\n",
       "      <th>95</th>\n",
       "      <td>10.616010</td>\n",
       "      <td>22.371084</td>\n",
       "    </tr>\n",
       "    <tr>\n",
       "      <th>96</th>\n",
       "      <td>9.984219</td>\n",
       "      <td>23.296425</td>\n",
       "    </tr>\n",
       "    <tr>\n",
       "      <th>97</th>\n",
       "      <td>10.565395</td>\n",
       "      <td>23.379760</td>\n",
       "    </tr>\n",
       "    <tr>\n",
       "      <th>98</th>\n",
       "      <td>9.569999</td>\n",
       "      <td>23.276475</td>\n",
       "    </tr>\n",
       "    <tr>\n",
       "      <th>99</th>\n",
       "      <td>11.547048</td>\n",
       "      <td>23.986335</td>\n",
       "    </tr>\n",
       "  </tbody>\n",
       "</table>\n",
       "<p>100 rows × 2 columns</p>\n",
       "</div>"
      ],
      "text/plain": [
       "    StudyTime      Score\n",
       "0   12.936518  23.657391\n",
       "1    9.582365  23.486963\n",
       "2    9.707742  23.114069\n",
       "3    8.890547  22.963953\n",
       "4   11.798111  22.991978\n",
       "..        ...        ...\n",
       "95  10.616010  22.371084\n",
       "96   9.984219  23.296425\n",
       "97  10.565395  23.379760\n",
       "98   9.569999  23.276475\n",
       "99  11.547048  23.986335\n",
       "\n",
       "[100 rows x 2 columns]"
      ]
     },
     "execution_count": 5,
     "metadata": {},
     "output_type": "execute_result"
    }
   ],
   "source": [
    "df"
   ]
  },
  {
   "cell_type": "code",
   "execution_count": 6,
   "id": "bf3d1165",
   "metadata": {},
   "outputs": [
    {
     "data": {
      "text/plain": [
       "13.778363109799741"
      ]
     },
     "execution_count": 6,
     "metadata": {},
     "output_type": "execute_result"
    }
   ],
   "source": [
    "max(X)\n"
   ]
  },
  {
   "cell_type": "code",
   "execution_count": 7,
   "id": "047e6237",
   "metadata": {},
   "outputs": [
    {
     "data": {
      "text/plain": [
       "7.047691954679576"
      ]
     },
     "execution_count": 7,
     "metadata": {},
     "output_type": "execute_result"
    }
   ],
   "source": [
    "min(X)"
   ]
  },
  {
   "cell_type": "code",
   "execution_count": 8,
   "id": "24614eb6",
   "metadata": {},
   "outputs": [
    {
     "data": {
      "text/plain": [
       "25.228858797424788"
      ]
     },
     "execution_count": 8,
     "metadata": {},
     "output_type": "execute_result"
    }
   ],
   "source": [
    "max(y)"
   ]
  },
  {
   "cell_type": "code",
   "execution_count": 9,
   "id": "27ef7fec",
   "metadata": {},
   "outputs": [
    {
     "data": {
      "text/plain": [
       "21.57339618758479"
      ]
     },
     "execution_count": 9,
     "metadata": {},
     "output_type": "execute_result"
    }
   ],
   "source": [
    "min(y)"
   ]
  },
  {
   "cell_type": "code",
   "execution_count": 10,
   "id": "1dc3abe6",
   "metadata": {
    "scrolled": true
   },
   "outputs": [
    {
     "data": {
      "image/png": "[encoded data removed]",
      "text/plain": [
       "<Figure size 640x480 with 1 Axes>"
      ]
     },
     "metadata": {},
     "output_type": "display_data"
    }
   ],
   "source": [
    "plt.plot(X, y, 'ro')   # scatter plot showing actual data\n",
    "plt.title('Actual')\n",
    "plt.xlabel('X')\n",
    "plt.ylabel('y')\n",
    "plt.show()"
   ]
  },
  {
   "cell_type": "code",
   "execution_count": 11,
   "id": "36242649",
   "metadata": {},
   "outputs": [],
   "source": [
    "def loss_function(m1, m2, m3, m4,b, points):\n",
    "    total_error =0\n",
    "    for i in range(len(points)):\n",
    "        x=points.iloc[i].StudyTime\n",
    "        yy=points.iloc[i].Score\n",
    "        total_error += (yy-(m1*(x) + m2*(x**2) + m3*(x**3) + m4*(x**4) +b))**2\n",
    "    return total_error/ float(len(points))    \n",
    "    \n",
    "    "
   ]
  },
  {
   "cell_type": "code",
   "execution_count": 12,
   "id": "506ff154",
   "metadata": {},
   "outputs": [],
   "source": [
    "def gradient_descent(m1_now, m2_now,m3_now,m4_now,b_now,points,L):\n",
    "    m1_gradient =0\n",
    "    m2_gradient =0\n",
    "    m3_gradient =0\n",
    "    m4_gradient =0\n",
    "    b_gradient =0\n",
    "    n=len(points)\n",
    "    \n",
    "    for i in range(n):\n",
    "        x=points.iloc[i].StudyTime\n",
    "        yy= points.iloc[i].Score\n",
    "        \n",
    "        m1_gradient += -(2/n)*(x)*(yy-(m1_now*(x)+m2_now*(x**2) + m3_now*(x**3) + m4_now*(x**4) +b_now))\n",
    "        m2_gradient += -(2/n)*(x**2)*(yy-(m1_now*(x)+m2_now*(x**2) + m3_now*(x**3) + m4_now*(x**4) +b_now))\n",
    "        m3_gradient += -(2/n)*(x**3)*(yy-(m1_now*(x)+m2_now*(x**2) + m3_now*(x**3) + m4_now*(x**4) +b_now))\n",
    "        m4_gradient += -(2/n)*(x**4)*(yy-(m1_now*(x)+m2_now*(x**2) + m3_now*(x**3) + m4_now*(x**4) +b_now))\n",
    "        b_gradient += -(2/n)*(yy-(m1_now*(x)+m2_now*(x**2) + m3_now*(x**3) + m4_now*(x**4) +b_now))\n",
    "        \n",
    "    m1 = m1_now - m1_gradient *L\n",
    "    m2 = m2_now - m2_gradient *L\n",
    "    m3 = m3_now - m3_gradient *L\n",
    "    m4 = m4_now - m4_gradient *L\n",
    "    b = b_now - b_gradient *L\n",
    "    return m1,m2,m3,m4,b\n",
    "    "
   ]
  },
  {
   "cell_type": "code",
   "execution_count": 13,
   "id": "ec743885",
   "metadata": {},
   "outputs": [
    {
     "name": "stdout",
     "output_type": "stream",
     "text": [
      "Batch size = 1\n",
      "0\n",
      "0\n",
      "0\n",
      "0\n",
      "22\n"
     ]
    }
   ],
   "source": [
    "#m1 =((df['StudyTime'] - np.mean(X)) * (df['Score'] - np.mean(y))).sum()/((df['StudyTime'] - np.mean(X))**2).sum()\n",
    "#m2 = ((df['StudyTime'] - np.mean(X)) * (df['Score'] - np.mean(y))).sum()/((df['StudyTime'] - np.mean(X))**2).sum()\n",
    "m1 = 0\n",
    "m2 = 0\n",
    "m3 = 0\n",
    "m4 = 0\n",
    "#m1 = 0\n",
    "#m2 = 0\n",
    "b = 22\n",
    "#b =np.mean(y) - (m * np.mean(X))\n",
    "L= 1e-9  #try 0.008 and 0.009\n",
    "epochs =5000\n",
    "batch_size = len(df)\n",
    "tp_batch = int(len(df)/float(batch_size))\n",
    "print(f'Batch size = {tp_batch}')\n",
    "print(m1)\n",
    "print(m2)\n",
    "print(m3)\n",
    "print(m4)\n",
    "print(b)"
   ]
  },
  {
   "cell_type": "code",
   "execution_count": 14,
   "id": "8cf7f3da",
   "metadata": {},
   "outputs": [
    {
     "name": "stdout",
     "output_type": "stream",
     "text": [
      "Epoch: 0\n",
      "0 0 0 0 22\n",
      "Epoch: 50\n",
      "5.052131819684906e-06 3.725046936358083e-05 0.00020934628218032166 9.162231490778564e-05 22.000000612942546\n",
      "Epoch: 100\n",
      "9.119936119950696e-06 6.703285287951828e-05 0.0003725859382974625 7.673056546252041e-05 22.000001106858342\n",
      "Epoch: 150\n",
      "1.2417241067877747e-05 9.119235469992928e-05 0.0005047720463961825 6.467136867482308e-05 22.000001505800668\n",
      "Epoch: 200\n",
      "1.5090585345363196e-05 0.00011079837348192959 0.0006118105943084353 5.490600925462909e-05 22.00000182783226\n",
      "Epoch: 250\n",
      "1.7258637851753942e-05 0.000126716921939364 0.0006984843265382493 4.69982286680441e-05 22.000002087580484\n",
      "Epoch: 300\n",
      "1.901749817993752e-05 0.00013964930824721827 0.0007686663707725858 4.0594739173094164e-05 22.000002296890656\n",
      "Epoch: 350\n",
      "2.0444989009692874e-05 0.00015016346073777763 0.0008254932353628483 3.540944383655746e-05 22.000002465355514\n",
      "Epoch: 400\n",
      "2.160413214273937e-05 0.0001587192950403243 0.0008715049048986208 3.121065770178585e-05 22.000002600742953\n",
      "Epoch: 450\n",
      "2.2545963440392046e-05 0.00016568925671541176 0.0009087582913956892 2.781075932681176e-05 22.00000270934388\n",
      "Epoch: 500\n",
      "2.3311812396082122e-05 0.00017137495694287408 0.0009389191085192791 2.5057810467626578e-05 22.00000279625266\n",
      "Epoch: 550\n",
      "2.3935148162350156e-05 0.0001760206443148194 0.0009633362725055567 2.282876959041352e-05 22.000002865595015\n",
      "Epoch: 600\n",
      "2.4443074487125733e-05 0.00017982411446597254 0.0009831021529798346 2.102399608699969e-05 22.00000292071149\n",
      "Epoch: 650\n",
      "2.4857540332250327e-05 0.0001829455448318867 0.000999101364839865 1.9562799718111577e-05 22.000002964307722\n",
      "Epoch: 700\n",
      "2.5196320247840362e-05 0.00018551464914913222 0.0010120502805470205 1.837983649570393e-05 22.00000299857451\n",
      "Epoch: 750\n",
      "2.5473808291996592e-05 0.00018763647126114033 0.0010225290276854484 1.742219002227037e-05 22.000003025286112\n",
      "Epoch: 800\n",
      "2.570166095713305e-05 0.00018939607701623544 0.0010310074009945015 1.6647007922130588e-05 22.00000304587945\n",
      "Epoch: 850\n",
      "2.5889317819948387e-05 0.00019086235382672086 0.0010378658462643314 1.601958779323951e-05 22.000003061518083\n",
      "Epoch: 900\n",
      "2.604442317043563e-05 0.00019209108760044795 0.0010434124533630243 1.5511827186462428e-05 22.000003073144192\n",
      "Epoch: 950\n",
      "2.6173167452446195e-05 0.00019312745447936077 0.001047896717407323 1.5100968378962302e-05 22.00000308152073\n",
      "Epoch: 1000\n",
      "2.6280563766624566e-05 0.00019400803868121686 0.0010515206827346614 1.4768581875627718e-05 22.00000308726566\n",
      "Epoch: 1050\n",
      "2.6370671786023263e-05 0.00019476246657364207 0.0010544479674342467 1.4499743235539224e-05 22.000003090879552\n",
      "Epoch: 1100\n",
      "2.6446779085832855e-05 0.00019541472996821699 0.0010568110715279172 1.4282366455528489e-05 22.000003092767486\n",
      "Epoch: 1150\n",
      "2.651154798652169e-05 0.00019598425774096975 0.001058717295228574 1.4106664135589216e-05 22.00000309325765\n",
      "Epoch: 1200\n",
      "2.656713446928098e-05 0.0001964867836443191 0.001060253531621285 1.3964710313992368e-05 22.00000309261576\n",
      "Epoch: 1250\n",
      "2.6615284475276897e-05 0.00019693504907230926 0.0010614901478379476 1.3850086445514764e-05 22.000003091057287\n",
      "Epoch: 1300\n",
      "2.665741189001904e-05 0.00019733937216890338 0.001062484128082163 1.3757594710151717e-05 22.00000308875628\n",
      "Epoch: 1350\n",
      "2.6694661696102695e-05 0.00019770810869916905 0.0010632816188911958 1.3683025846746368e-05 22.000003085853756\n",
      "Epoch: 1400\n",
      "2.6727961115095585e-05 0.00019804802526859563 0.0010639199903211627 1.3622971141754788e-05 22.000003082464193\n",
      "Epoch: 1450\n",
      "2.6758061022903802e-05 0.00019836460156094472 0.001064429505121637 1.3574670175353874e-05 22.000003078680045\n",
      "Epoch: 1500\n",
      "2.678556948845837e-05 0.00019866227509428115 0.0010648346704543348 1.3535887524250065e-05 22.000003074576313\n",
      "Epoch: 1550\n",
      "2.6810978933777423e-05 0.00019894463942757233 0.0010651553325323854 1.3504812914065731e-05 22.000003070213623\n",
      "Epoch: 1600\n",
      "2.683468812852559e-05 0.00019921460467088798 0.001065407563072994 1.3479980361438171e-05 22.00000306564135\n",
      "Epoch: 1650\n",
      "2.6857020001497976e-05 0.0001994745274686658 0.0010656043771584342 1.3460202694315029e-05 22.000003060898944\n",
      "Epoch: 1700\n",
      "2.6878236064579728e-05 0.0001997263162617681 0.0010657563145687653 1.3444518525544413e-05 22.00000305601898\n",
      "Epoch: 1750\n",
      "2.6898548093458845e-05 0.0001999715165300854 0.0010658719105527575 1.3432149311541476e-05 22.00000305102732\n",
      "Epoch: 1800\n",
      "2.6918127586812713e-05 0.0002002113798230562 0.0010659580770639844 1.3422464577731714e-05 22.0000030459453\n",
      "Epoch: 1850\n",
      "2.693711342648199e-05 0.0002004469196614903 0.0010660204114909073 1.3414953757753851e-05 22.00000304078991\n",
      "Epoch: 1900\n",
      "2.6955618080775158e-05 0.00020067895680756526 0.0010660634466703094 1.3409203388430722e-05 22.00000303557501\n",
      "Epoch: 1950\n",
      "2.697373262798429e-05 0.00020090815592505135 0.001066090853351398 1.3404878641991296e-05 22.000003030311827\n",
      "Epoch: 2000\n",
      "2.6991530824491936e-05 0.00020113505526722804 0.001066105604153808 1.3401708370616021e-05 22.000003025009608\n",
      "Epoch: 2050\n",
      "2.7009072399177262e-05 0.00020136009071854705 0.0010661101063429532 1.339947299534623e-05 22.0000030196756\n",
      "Epoch: 2100\n",
      "2.7026405721266965e-05 0.0002015836152638663 0.0010661063093531167 1.3397994698341544e-05 22.00000301431559\n",
      "Epoch: 2150\n",
      "2.7043569960800455e-05 0.00020180591475492483 0.0010660957918612564 1.3397129480408362e-05 22.00000300893454\n",
      "Epoch: 2200\n",
      "2.7060596838188448e-05 0.00020202722067813838 0.0010660798322999533 1.3396760729167107e-05 22.00000300353663\n",
      "Epoch: 2250\n",
      "2.7077512041041822e-05 0.00020224772049422444 0.0010660594659602474 1.3396794010429351e-05 22.00000299812511\n",
      "Epoch: 2300\n",
      "2.7094336371534408e-05 0.00020246756601133298 0.0010660355312341033 1.3397152850227125e-05 22.00000299270189\n",
      "Epoch: 2350\n",
      "2.7111086675557077e-05 0.00020268688016575895 0.0010660087070623028 1.3397775318879965e-05 22.000002987269408\n",
      "Epoch: 2400\n",
      "2.7127776595135875e-05 0.00020290576251288302 0.001065979543259455 1.3398611265004335e-05 22.000002981829113\n",
      "Epoch: 2450\n",
      "2.71444171777817e-05 0.00020312429367402976 0.0010659484850727096 1.3399620075321115e-05 22.00000297638254\n",
      "Epoch: 2500\n",
      "2.7161017369922313e-05 0.00020334253893740454 0.0010659158930686843 1.3400768860673584e-05 22.00000297093129\n",
      "Epoch: 2550\n",
      "2.71775844165015e-05 0.0002035605511742554 0.001065882059238671 1.340203098710069e-05 22.000002965475392\n",
      "Epoch: 2600\n",
      "2.719412418460268e-05 0.00020377837320058572 0.0010658472200416546 1.3403384885964361e-05 22.00000296001564\n",
      "Epoch: 2650\n",
      "2.7210641425466312e-05 0.00020399603968928565 0.0010658115669644917 1.3404813090726187e-05 22.000002954553253\n",
      "Epoch: 2700\n",
      "2.722713998672854e-05 0.00020421357871899416 0.0010657752550758586 1.3406301456823015e-05 22.00000294908804\n",
      "Epoch: 2750\n",
      "2.7243622984274482e-05 0.00020443101302823312 0.0010657384099524558 1.3407838529740105e-05 22.00000294362068\n",
      "Epoch: 2800\n",
      "2.7260092941399192e-05 0.00020464836103096414 0.0010657011332876876 1.3409415033496943e-05 22.000002938151546\n",
      "Epoch: 2850\n",
      "2.7276551901521017e-05 0.000204865637639146 0.001065663507434338 1.3411023456256593e-05 22.00000293268114\n",
      "Epoch: 2900\n",
      "2.729300151943006e-05 0.00020508285492863495 0.0010656255990822156 1.3412657714887038e-05 22.000002927209838\n",
      "Epoch: 2950\n",
      "2.730944313522896e-05 0.00020530002267878396 0.0010655874622382084 1.3414312883210442e-05 22.00000292173677\n",
      "Epoch: 3000\n",
      "2.732587783416129e-05 0.00020551714880905612 0.0010655491406375175 1.341598497183418e-05 22.000002916263263\n",
      "Epoch: 3050\n",
      "2.7342306495078534e-05 0.00020573423973272302 0.0010655106696970905 1.3417670750200273e-05 22.00000291078935\n",
      "Epoch: 3100\n",
      "2.7358729829710767e-05 0.00020595130064345252 0.0010654720780983614 1.3419367602153912e-05 22.000002905314698\n",
      "Epoch: 3150\n",
      "2.7375148414441237e-05 0.0002061683357471848 0.0010654333890678046 1.3421073409087317e-05 22.000002899839377\n",
      "Epoch: 3200\n",
      "2.739156271606012e-05 0.00020638534845008306 0.001065394621414937 1.3422786455352818e-05 22.00000289436243\n",
      "Epoch: 3250\n",
      "2.7407973112601086e-05 0.00020660234151058526 0.0010653557903720961 1.3424505351478592e-05 22.000002888884666\n",
      "Epoch: 3300\n",
      "2.7424379910197834e-05 0.00020681931716242898 0.0010653169082738274 1.342622897230536e-05 22.000002883407017\n",
      "Epoch: 3350\n",
      "2.744078335678516e-05 0.00020703627721462955 0.0010652779851090949 1.3427956406748568e-05 22.00000287792858\n",
      "Epoch: 3400\n",
      "2.7457183653159505e-05 0.0002072532231321988 0.0010652390289669865 1.3429686916901872e-05 22.00000287245022\n",
      "Epoch: 3450\n",
      "2.7473580961943882e-05 0.0002074701561015737 0.0010652000463981241 1.3431419905303827e-05 22.000002866971116\n"
     ]
    },
    {
     "name": "stdout",
     "output_type": "stream",
     "text": [
      "Epoch: 3500\n",
      "2.7489975414862563e-05 0.00020768707708369863 0.0010651610427077536 1.3433154888060292e-05 22.00000286149087\n",
      "Epoch: 3550\n",
      "2.7506367118591543e-05 0.00020790398685672075 0.0010651220221916285 1.343489147323733e-05 22.000002856010905\n",
      "Epoch: 3600\n",
      "2.7522756159535582e-05 0.00020812088605085558 0.0010650829883285249 1.3436629343575644e-05 22.00000285053033\n",
      "Epoch: 3650\n",
      "2.753914260769426e-05 0.000208337775176596 0.0010650439439359898 1.3438368242107477e-05 22.000002845048584\n",
      "Epoch: 3700\n",
      "2.755552651976518e-05 0.00020855465464736294 0.0010650048912954867 1.3440107960669359e-05 22.000002839566527\n",
      "Epoch: 3750\n",
      "2.7571907941681573e-05 0.00020877152479801915 0.0010649658322546102 1.3441848330770566e-05 22.00000283408356\n",
      "Epoch: 3800\n",
      "2.7588286910658667e-05 0.00020898838589980732 0.0010649267683096176 1.344358921588651e-05 22.000002828600298\n",
      "Epoch: 3850\n",
      "2.7604663456841124e-05 0.00020920523817237355 0.0010648877006718017 1.3445330505534506e-05 22.000002823116624\n",
      "Epoch: 3900\n",
      "2.762103760466654e-05 0.00020942208179371223 0.0010648486303224299 1.3447072110220295e-05 22.000002817632318\n",
      "Epoch: 3950\n",
      "2.7637409373937008e-05 0.00020963891690799075 0.0010648095580559618 1.3448813957444832e-05 22.000002812147827\n",
      "Epoch: 4000\n",
      "2.7653778780700035e-05 0.00020985574363197485 0.001064770484515508 1.3450555988542759e-05 22.000002806663183\n",
      "Epoch: 4050\n",
      "2.7670145837974646e-05 0.000210072562060334 0.0010647314102221529 1.3452298155996875e-05 22.00000280117813\n",
      "Epoch: 4100\n",
      "2.768651055632084e-05 0.0002102893722697877 0.0010646923355978508 1.3454040421342297e-05 22.000002795692282\n",
      "Epoch: 4150\n",
      "2.7702872944314307e-05 0.0002105061743225732 0.0010646532609845823 1.3455782753376967e-05 22.00000279020572\n",
      "Epoch: 4200\n",
      "2.7719233008902866e-05 0.00021072296826905268 0.0010646141866587295 1.3457525126818872e-05 22.000002784719488\n",
      "Epoch: 4250\n",
      "2.7735590755734107e-05 0.00021093975415009683 0.0010645751128442766 1.3459267521331613e-05 22.00000277923213\n",
      "Epoch: 4300\n",
      "2.7751946189412698e-05 0.00021115653199896568 0.001064536039723138 1.3461009920302881e-05 22.00000277374389\n",
      "Epoch: 4350\n",
      "2.7768299313663955e-05 0.00021137330184250308 0.0010644969674418318 1.346275231026285e-05 22.000002768256316\n",
      "Epoch: 4400\n",
      "2.778465013152293e-05 0.00021159006370251695 0.001064457896119063 1.3464494680446694e-05 22.000002762768414\n",
      "Epoch: 4450\n",
      "2.7800998645470448e-05 0.000211806817596768 0.0010644188258511608 1.3466237022070536e-05 22.000002757280107\n",
      "Epoch: 4500\n",
      "2.7817344857532475e-05 0.0002120235635396974 0.0010643797567161583 1.3467979328031733e-05 22.00000275179113\n",
      "Epoch: 4550\n",
      "2.783368876937245e-05 0.00021224030154310203 0.0010643406887774244 1.3469721592545024e-05 22.000002746301515\n",
      "Epoch: 4600\n",
      "2.7850030382346293e-05 0.00021245703161653438 0.0010643016220859935 1.3471463810898347e-05 22.000002740812086\n",
      "Epoch: 4650\n",
      "2.7866369697567766e-05 0.0002126737537677779 0.0010642625566831079 1.3473205979389508e-05 22.0000027353219\n",
      "Epoch: 4700\n",
      "2.7882706715962964e-05 0.0002128904680032488 0.0010642234926024614 1.3474948094910436e-05 22.000002729831444\n",
      "Epoch: 4750\n",
      "2.7899041438292147e-05 0.00021310717432815286 0.0010641844298710432 1.3476690155014106e-05 22.00000272434045\n",
      "Epoch: 4800\n",
      "2.7915373865200272e-05 0.00021332387274685383 0.0010641453685112184 1.3478432157695792e-05 22.000002718848354\n",
      "Epoch: 4850\n",
      "2.7931703997217697e-05 0.00021354056326287725 0.0010641063085406984 1.3480174101254993e-05 22.00000271335639\n",
      "Epoch: 4900\n",
      "2.7948031834792304e-05 0.00021375724587915058 0.0010640672499739202 1.3481915984501832e-05 22.00000270786261\n",
      "Epoch: 4950\n",
      "2.7964357378313817e-05 0.0002139739205981704 0.00106402819282289 1.3483657806216781e-05 22.000002702368842\n"
     ]
    }
   ],
   "source": [
    "for i in range(epochs):\n",
    "    if i% 50 == 0:\n",
    "        print(f\"Epoch: {i}\")\n",
    "        print(m1,m2,m3,m4,b)\n",
    "    for j in range(0,batch_size):\n",
    "        m1,m2,m3,m4,b = gradient_descent(m1,m2,m3,m4,b,df[j*tp_batch:(j+1)*tp_batch],L)\n",
    "    \n",
    "#print(m,b)"
   ]
  },
  {
   "cell_type": "code",
   "execution_count": 15,
   "id": "8e9bc48c",
   "metadata": {},
   "outputs": [],
   "source": [
    "#m=1.11\n",
    "#b=8\n",
    "ypred = m1*(X)+m2*(X**2)+m3*(X**3)+m4*(X**4) + b"
   ]
  },
  {
   "cell_type": "code",
   "execution_count": 16,
   "id": "4da0cbfb",
   "metadata": {},
   "outputs": [
    {
     "data": {
      "text/plain": [
       "0.32129686063874663"
      ]
     },
     "execution_count": 16,
     "metadata": {},
     "output_type": "execute_result"
    }
   ],
   "source": [
    "z=loss_function(m1,m2,m3,m4, b, df)\n",
    "z"
   ]
  },
  {
   "cell_type": "code",
   "execution_count": 17,
   "id": "5d40d1de",
   "metadata": {},
   "outputs": [
    {
     "data": {
      "text/plain": [
       "12.936518045494863"
      ]
     },
     "execution_count": 17,
     "metadata": {},
     "output_type": "execute_result"
    }
   ],
   "source": [
    "df.iloc[0].StudyTime\n"
   ]
  },
  {
   "cell_type": "code",
   "execution_count": 18,
   "id": "ad71263e",
   "metadata": {},
   "outputs": [
    {
     "data": {
      "text/plain": [
       "24.717404634845714"
      ]
     },
     "execution_count": 18,
     "metadata": {},
     "output_type": "execute_result"
    }
   ],
   "source": [
    "z= df.iloc[0].StudyTime * m1 + df.iloc[0].StudyTime**2 * m2 + df.iloc[0].StudyTime**3 * m3 + df.iloc[0].StudyTime**4 * m4 + b\n",
    "z"
   ]
  },
  {
   "cell_type": "code",
   "execution_count": 19,
   "id": "38a330c3",
   "metadata": {},
   "outputs": [
    {
     "data": {
      "image/png": "[encoded data removed]",
      "text/plain": [
       "<Figure size 640x480 with 1 Axes>"
      ]
     },
     "metadata": {},
     "output_type": "display_data"
    }
   ],
   "source": [
    "plt.scatter(df.StudyTime,df.Score,color=\"black\")\n",
    "#plt.plot(list(range(6,14)),[m*x+b for x in range(6,14)], color=\"red\")\n",
    "plt.show()"
   ]
  },
  {
   "cell_type": "code",
   "execution_count": 20,
   "id": "16a0c24c",
   "metadata": {},
   "outputs": [
    {
     "data": {
      "image/png": "[encoded data removed]",
      "text/plain": [
       "<Figure size 640x480 with 1 Axes>"
      ]
     },
     "metadata": {},
     "output_type": "display_data"
    }
   ],
   "source": [
    "plt.plot(X, ypred,)     # regression line\n",
    "plt.show()"
   ]
  },
  {
   "cell_type": "code",
   "execution_count": 21,
   "id": "cbdda880",
   "metadata": {
    "scrolled": true
   },
   "outputs": [
    {
     "data": {
      "image/png": "[encoded data removed]",
      "text/plain": [
       "<Figure size 1200x600 with 1 Axes>"
      ]
     },
     "metadata": {},
     "output_type": "display_data"
    }
   ],
   "source": [
    "plt.figure(figsize=(12, 6))\n",
    "plt.plot(X, y, 'ro')   # scatter plot showing actual data\n",
    "plt.scatter(X, ypred, color='green')     # regression line\n",
    "plt.title('Actual vs Predicted')\n",
    "plt.xlabel('X')\n",
    "plt.ylabel('y')\n",
    "plt.show()"
   ]
  },
  {
   "cell_type": "code",
   "execution_count": 22,
   "id": "c560c483",
   "metadata": {},
   "outputs": [
    {
     "name": "stdout",
     "output_type": "stream",
     "text": [
      "(100, 1)\n",
      "(100, 1)\n",
      "0.4429840653345788\n",
      "0.5668305396136896\n"
     ]
    }
   ],
   "source": [
    "y = y.reshape(100,1)\n",
    "ypred = ypred.reshape(100,1)\n",
    "print(y.shape)\n",
    "print(ypred.shape)\n",
    "mae = mean_absolute_error(y,ypred)\n",
    "rmse = math.sqrt(mean_squared_error(y,ypred))\n",
    "print(mae)\n",
    "print(rmse)"
   ]
  },
  {
   "cell_type": "code",
   "execution_count": 23,
   "id": "c815edd7",
   "metadata": {},
   "outputs": [],
   "source": [
    "def predict(value):\n",
    "    #value = X\n",
    "    for i in range(value):\n",
    "        # straight line = m*x+y\n",
    "       print(i, ':',df.iloc[i].StudyTime,':',df.iloc[i].Score,':', m1 * (df.iloc[i].StudyTime)+m2*(df.iloc[i].StudyTime**2)+m3*(df.iloc[i].StudyTime**3)+m4*(df.iloc[i].StudyTime**4) + b,':',ypred[i])"
   ]
  },
  {
   "cell_type": "code",
   "execution_count": 24,
   "id": "ee0f6098",
   "metadata": {},
   "outputs": [
    {
     "name": "stdout",
     "output_type": "stream",
     "text": [
      "0 : 12.936518045494863 : 23.65739113125546 : 24.717404634845714 : [24.71740463]\n",
      "1 : 9.582365379524887 : 23.486963466260214 : 23.06980807505882 : [23.06980808]\n",
      "2 : 9.707742371604816 : 23.114068532376844 : 23.113627895364594 : [23.1136279]\n",
      "3 : 8.890547066765745 : 22.96395338164826 : 22.8491248551762 : [22.84912486]\n",
      "4 : 11.798111443987018 : 22.991977510325583 : 24.03876072343097 : [24.03876072]\n",
      "5 : 7.047691954679576 : 22.198998802933204 : 22.416567170584337 : [22.41656717]\n",
      "6 : 13.11721764632472 : 24.305443519445554 : 24.837848772152103 : [24.83784877]\n",
      "7 : 9.358189648657346 : 22.330606593693233 : 22.994441227862488 : [22.99444123]\n",
      "8 : 10.978558644085648 : 23.160458340223883 : 23.62993524868646 : [23.62993525]\n",
      "9 : 10.125944436783884 : 23.054090604381845 : 23.26872369665996 : [23.2687237]\n",
      "10 : 12.693161905567461 : 23.12138991154686 : 24.560866641829346 : [24.56086664]\n",
      "11 : 7.409788935753519 : 22.380516376747202 : 22.485489875115437 : [22.48548988]\n"
     ]
    }
   ],
   "source": [
    "predict(12)"
   ]
  },
  {
   "cell_type": "code",
   "execution_count": null,
   "id": "4257a385",
   "metadata": {},
   "outputs": [],
   "source": []
  },
  {
   "cell_type": "code",
   "execution_count": null,
   "id": "6933bf7e",
   "metadata": {},
   "outputs": [],
   "source": []
  }
 ],
 "metadata": {
  "kernelspec": {
   "display_name": "Python 3 (ipykernel)",
   "language": "python",
   "name": "python3"
  },
  "language_info": {
   "codemirror_mode": {
    "name": "ipython",
    "version": 3
   },
   "file_extension": ".py",
   "mimetype": "text/x-python",
   "name": "python",
   "nbconvert_exporter": "python",
   "pygments_lexer": "ipython3",
   "version": "3.11.4"
  }
 },
 "nbformat": 4,
 "nbformat_minor": 5
}
